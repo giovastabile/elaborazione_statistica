{
 "cells": [
  {
   "cell_type": "markdown",
   "metadata": {},
   "source": [
    "Apri questo notebook in [colab](https://colab.research.google.com/github/giovastabile/elaborazione_statistica/blob/main/notebooks/12_z_test.ipynb).\n",
    "\n",
    "Below is the example of performing the z-test:\n",
    "\n",
    "Problem: A school claimed that the students’ study that is more intelligent than the average school. On calculating the IQ scores of 50 students, the average turns out to be 11. The mean of the population IQ is 100 and the standard deviation is 15. State whether the claim of principal is right or not at a 5% significance level.\n",
    "\n",
    "First, we define the null hypothesis and the alternate hypothesis. Our null hypothesis will be:\n",
    "H_0 : \\mu  = 100       \n",
    "and our alternate hypothesis.\n",
    "\n",
    "H_A : \\mu > 100\n",
    "State the level of significance. Here, our level of significance given in this question (∝ =0.05), if not given then we take ∝=0.05.\n",
    "Now, we look up to the z-table. For the value of ∝=0.05, the z-score for the right-tailed test is 1.645.\n",
    "Now, we perform the Z-test on the problem:\n",
    "Z  =  \\frac{(\\overline{X}- \\mu)}{\\left ( \\sigma /\\sqrt{n} \\right )}\n",
    "Where:\n",
    "X = 110\n",
    "Mean (mu) = 100\n",
    "Standard deviation (sigma) = 15\n",
    "Significance level (alpha) = 0.05\n",
    "n = 50\n",
    "\\frac{\\left ( 110-100\\right )}{15/\\sqrt{50}}       \n",
    "\\frac{10}{(15/sqrt(50))}       \n",
    "\\frac{10}{2.12}       \n",
    "4.71\n",
    "Here 4.71 >1.645, so we reject the null hypothesis. If z-test statistics is less than z-score, then we will not reject the null hypothesis."
   ]
  },
  {
   "cell_type": "code",
   "execution_count": 4,
   "metadata": {},
   "outputs": [
    {
     "name": "stdout",
     "output_type": "stream",
     "text": [
      "mean=110.48 stdv=2.16\n",
      "Reject Null Hypothesis\n"
     ]
    }
   ],
   "source": [
    "# imports\n",
    "import math\n",
    "import numpy as np\n",
    "from numpy.random import randn\n",
    "from statsmodels.stats.weightstats import ztest\n",
    "  \n",
    "# Generate a random array of 50 numbers having mean 110 and sd 15\n",
    "# similar to the IQ scores data we assume above\n",
    "mean_iq = 110\n",
    "sd_iq = 15/math.sqrt(50)\n",
    "alpha =0.05\n",
    "null_mean =100\n",
    "data = sd_iq*randn(50)+mean_iq\n",
    "# print mean and sd\n",
    "print('mean=%.2f stdv=%.2f' % (np.mean(data), np.std(data)))\n",
    "  \n",
    "# now we perform the test. In this function, we passed data, in the value parameter\n",
    "# we passed mean value in the null hypothesis, in alternative hypothesis we check whether the\n",
    "# mean is larger\n",
    "  \n",
    "ztest_Score, p_value= ztest(data,value = null_mean, alternative='larger')\n",
    "# the function outputs a p_value and z-score corresponding to that value, we compare the \n",
    "# p-value with alpha, if it is greater than alpha then we do not null hypothesis \n",
    "# else we reject it.\n",
    "  \n",
    "if(p_value <  alpha):\n",
    "  print(\"Reject Null Hypothesis\")\n",
    "else:\n",
    "  print(\"Fail to Reject NUll Hypothesis\")"
   ]
  }
 ],
 "metadata": {
  "kernelspec": {
   "display_name": "Python 3.9.12",
   "language": "python",
   "name": "python3"
  },
  "language_info": {
   "codemirror_mode": {
    "name": "ipython",
    "version": 3
   },
   "file_extension": ".py",
   "mimetype": "text/x-python",
   "name": "python",
   "nbconvert_exporter": "python",
   "pygments_lexer": "ipython3",
   "version": "3.9.12"
  },
  "orig_nbformat": 4,
  "vscode": {
   "interpreter": {
    "hash": "4fc84484465084601b811cee3f2dbd41b30cc529506285d1faee74a272af2aa7"
   }
  }
 },
 "nbformat": 4,
 "nbformat_minor": 2
}
