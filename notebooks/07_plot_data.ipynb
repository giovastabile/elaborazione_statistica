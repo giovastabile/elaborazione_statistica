{
 "cells": [
  {
   "cell_type": "code",
   "execution_count": null,
   "id": "0ffa8075",
   "metadata": {},
   "outputs": [],
   "source": [
    "import pandas as pd\n",
    "import numpy as np\n",
    "import scipy as sp"
   ]
  },
  {
   "cell_type": "code",
   "execution_count": null,
   "id": "d32c2966",
   "metadata": {},
   "outputs": [],
   "source": [
    "from plotly.offline import iplot, init_notebook_mode\n",
    "init_notebook_mode() # plot direttamente nel notebook"
   ]
  },
  {
   "cell_type": "code",
   "execution_count": null,
   "id": "cc5d70d1",
   "metadata": {},
   "outputs": [],
   "source": [
    "import plotly.graph_objs as go\n",
    "def configure_plotly_browser_state():\n",
    "  import IPython\n",
    "  display(IPython.core.display.HTML('''\n",
    "        <script src=\"/static/components/requirejs/require.js\"></script>\n",
    "        <script>\n",
    "          requirejs.config({\n",
    "            paths: {\n",
    "              base: '/static/base',\n",
    "              plotly: 'https://cdn.plot.ly/plotly-latest.min.js?noext',\n",
    "            },\n",
    "          });\n",
    "        </script>\n",
    "        '''))"
   ]
  },
  {
   "cell_type": "code",
   "execution_count": null,
   "id": "36320964",
   "metadata": {},
   "outputs": [],
   "source": [
    "!mkdir -p data\n",
    "![ -f data/Plotting.xlsx ] || curl -L https://raw.githubusercontent.com/giovastabile/elaborazione_statistica/main/notebooks/data/Plotting.xlsx -o data/Plotting.xlsx"
   ]
  },
  {
   "cell_type": "code",
   "execution_count": null,
   "id": "030e6d50",
   "metadata": {},
   "outputs": [],
   "source": [
    "df = pd.read_excel('data/Plotting.xlsx')"
   ]
  },
  {
   "cell_type": "code",
   "execution_count": null,
   "id": "48efa5ff",
   "metadata": {},
   "outputs": [],
   "source": [
    "df.head(2)"
   ]
  },
  {
   "cell_type": "code",
   "execution_count": null,
   "id": "d1916db6",
   "metadata": {},
   "outputs": [],
   "source": [
    "df.shape"
   ]
  },
  {
   "cell_type": "code",
   "execution_count": null,
   "id": "cee6e5cd",
   "metadata": {},
   "outputs": [],
   "source": [
    "configure_plotly_browser_state()\n",
    "trace0 = go.Scatter(x = df.Cholesterol,\n",
    "                   y = df.sBP,\n",
    "                   mode = 'markers')\n",
    "data = [trace0]\n",
    "iplot({\"data\":data})"
   ]
  },
  {
   "cell_type": "code",
   "execution_count": null,
   "id": "d7516d44",
   "metadata": {},
   "outputs": [],
   "source": [
    "# Cambiare i marker\n",
    "configure_plotly_browser_state()\n",
    "trace0 = go.Scatter(x = df.Cholesterol,\n",
    "                   y = df.sBP,\n",
    "                   mode = 'markers',\n",
    "                   marker = {\"size\":10, \"color\":\"rgba(255,70,0,0.5)\"}) # dimensione, colore e l'ultimo è la trasperanza\n",
    "data = [trace0]\n",
    "iplot({\"data\":data})"
   ]
  },
  {
   "cell_type": "code",
   "execution_count": null,
   "id": "4075c037",
   "metadata": {},
   "outputs": [],
   "source": [
    "configure_plotly_browser_state()\n",
    "trace0 = go.Scatter(x = df[df.Group == \"A\"][\"Cholesterol\"],\n",
    "                    y = df[df.Group == \"A\"][\"sBP\"],\n",
    "                    mode = \"markers\",\n",
    "                    marker = {\"size\":10, \"color\":\"rgba(255,70,0,0.5)\"},\n",
    "                   name = \"Group A\")\n",
    "trace1 = go.Scatter(x = df[df.Group == \"B\"][\"Cholesterol\"],\n",
    "                    y = df[df.Group == \"B\"][\"sBP\"],\n",
    "                    mode = \"markers\",\n",
    "                    marker = {\"size\":10, \"color\":\"rgba(0,198,255,0.5)\"},\n",
    "                   name = \"Group B\")\n",
    "data = [trace0,trace1]\n",
    "\n",
    "iplot({\"data\":data})                    "
   ]
  },
  {
   "cell_type": "code",
   "execution_count": null,
   "id": "fabac1c1",
   "metadata": {},
   "outputs": [],
   "source": [
    "configure_plotly_browser_state()\n",
    "trace0 = go.Scatter(x = df[df.Group == \"A\"][\"Cholesterol\"],\n",
    "                    y = df[df.Group == \"A\"][\"sBP\"],\n",
    "                    mode = \"markers\",\n",
    "                    marker = {\"size\":10, \"color\":\"rgba(255,70,0,0.5)\"},\n",
    "                   name = \"Group A\")\n",
    "trace1 = go.Scatter(x = df[df.Group == \"B\"][\"Cholesterol\"],\n",
    "                    y = df[df.Group == \"B\"][\"sBP\"],\n",
    "                    mode = \"markers\",\n",
    "                    marker = {\"size\":10, \"color\":\"rgba(0,198,255,0.5)\"},\n",
    "                   name = \"Group B\")\n",
    "data = [trace0,trace1]\n",
    "\n",
    "layout = {\"title\":\"Correlation between serum cholesterol and systolic blood pressure\",\n",
    "         \"xaxis\":{\"title\":\"Serum cholesterol\",\n",
    "                 \"zeroline\":False},\n",
    "          \"yaxis\":{\"title\":\"Systolic blood pressure\",\n",
    "                 \"zeroline\":False},\n",
    "         }\n",
    "\n",
    "iplot({\"data\":data, \"layout\":layout})  "
   ]
  },
  {
   "cell_type": "code",
   "execution_count": null,
   "id": "8cf99959",
   "metadata": {},
   "outputs": [],
   "source": [
    "configure_plotly_browser_state()\n",
    "trace0 = go.Scatter(x = df.Cholesterol,\n",
    "                   y = df.sBP,\n",
    "                   mode = 'markers',\n",
    "                   marker = {\"size\":10, \n",
    "                             \"color\":df.BUN, #BUN Variable\n",
    "                             \"colorscale\":\"Portland\",\n",
    "                             \"showscale\":True})\n",
    "data = [trace0]\n",
    "iplot({\"data\":data})"
   ]
  },
  {
   "cell_type": "code",
   "execution_count": null,
   "id": "853cf33c",
   "metadata": {},
   "outputs": [],
   "source": [
    "df.Creatinine.describe() #per trovare la scala"
   ]
  },
  {
   "cell_type": "code",
   "execution_count": null,
   "id": "3cfadc0b",
   "metadata": {},
   "outputs": [],
   "source": [
    "## Usiamo la creatinina per definire la dimensione\n",
    "configure_plotly_browser_state()\n",
    "trace0 = go.Scatter(x = df.Cholesterol,\n",
    "                   y = df.sBP,\n",
    "                   mode = 'markers',\n",
    "                   marker = {\"size\":10 * np.ceil(df.Creatinine)})\n",
    "data = [trace0]\n",
    "iplot({\"data\":data})"
   ]
  },
  {
   "cell_type": "code",
   "execution_count": null,
   "id": "95c34441",
   "metadata": {},
   "outputs": [],
   "source": [
    "configure_plotly_browser_state()\n",
    "trace0 = go.Scatter(x = df.Cholesterol,\n",
    "                   y = df.sBP,\n",
    "                   mode = 'markers',\n",
    "                   marker = {\"size\":10 * np.ceil(df.Creatinine),\n",
    "                             \"color\":df.BUN, #BUN Variable\n",
    "                             \"colorscale\":\"Portland\",\n",
    "                             \"showscale\":True,\n",
    "                            \"colorbar\":{\"title\":\"BUN\"}})\n",
    "data = [trace0]\n",
    "\n",
    "layout = {\"title\":\"Correlation between serum cholesterol and systolic blood pressure with BUN (color), Creatinine (size)\",\n",
    "         \"xaxis\":{\"title\":\"Serum cholesterol\",\n",
    "                 \"zeroline\":False},\n",
    "          \"yaxis\":{\"title\":\"Systolic blood pressure\",\n",
    "                 \"zeroline\":False},\n",
    "         }\n",
    "\n",
    "iplot({\"data\":data, \"layout\":layout})"
   ]
  },
  {
   "cell_type": "code",
   "execution_count": null,
   "id": "ade72b21",
   "metadata": {},
   "outputs": [],
   "source": [
    "configure_plotly_browser_state()\n",
    "trace0 = go.Box(y=df.BUN)\n",
    "data = [trace0]\n",
    "iplot({\"data\":data})"
   ]
  },
  {
   "cell_type": "code",
   "execution_count": null,
   "id": "83a2158f",
   "metadata": {},
   "outputs": [],
   "source": [
    "configure_plotly_browser_state()\n",
    "trace0 = go.Box(x=df.Group,\n",
    "               y=df.BUN)\n",
    "data = [trace0]\n",
    "iplot({\"data\":data})"
   ]
  },
  {
   "cell_type": "code",
   "execution_count": null,
   "id": "9a40f04e",
   "metadata": {},
   "outputs": [],
   "source": [
    "configure_plotly_browser_state()\n",
    "trace0 = go.Box(x=df.BUN)\n",
    "data = [trace0]\n",
    "iplot({\"data\":data})"
   ]
  },
  {
   "cell_type": "code",
   "execution_count": null,
   "id": "2f11406e",
   "metadata": {},
   "outputs": [],
   "source": [
    "configure_plotly_browser_state()\n",
    "trace0 = go.Box(x=df.Group,\n",
    "               y=df.BUN,\n",
    "               boxpoints = \"all\",\n",
    "               jitter = 0.3,\n",
    "               pointpos = -1.5)\n",
    "data = [trace0]\n",
    "iplot({\"data\":data})"
   ]
  },
  {
   "cell_type": "code",
   "execution_count": null,
   "id": "e2bf2777",
   "metadata": {},
   "outputs": [],
   "source": [
    "configure_plotly_browser_state()\n",
    "trace0 = go.Box(x=df.Group,\n",
    "               y=df.BUN,\n",
    "               boxpoints = \"all\",\n",
    "               jitter = 0.3,\n",
    "               pointpos = -1.5,\n",
    "               boxmean = \"sd\")\n",
    "data = [trace0]\n",
    "iplot({\"data\":data})"
   ]
  },
  {
   "cell_type": "code",
   "execution_count": null,
   "id": "d9da045e",
   "metadata": {},
   "outputs": [],
   "source": [
    "## Istogrammi\n",
    "configure_plotly_browser_state()\n",
    "trace0 = go.Histogram(x = df.sBP)\n",
    "\n",
    "data = [trace0]\n",
    "\n",
    "iplot({\"data\":data})"
   ]
  },
  {
   "cell_type": "code",
   "execution_count": null,
   "id": "5de2131b",
   "metadata": {},
   "outputs": [],
   "source": [
    "## Istogrammi\n",
    "configure_plotly_browser_state()\n",
    "trace0 = go.Histogram(x = df.sBP,\n",
    "                     histnorm = \"probability\")\n",
    "\n",
    "data = [trace0]\n",
    "\n",
    "iplot({\"data\":data})"
   ]
  },
  {
   "cell_type": "code",
   "execution_count": null,
   "id": "f647ebd2",
   "metadata": {},
   "outputs": [],
   "source": [
    "## Istogrammi\n",
    "configure_plotly_browser_state()\n",
    "trace0 = go.Histogram(x = df.sBP,\n",
    "                     histnorm = \"probability\",\n",
    "                     xbins = {\"start\":df.sBP.min(),\n",
    "                     \"end\":df.sBP.max(),\n",
    "                     \"size\":20})\n",
    "\n",
    "layout = {\"bargap\":0.01}\n",
    "\n",
    "data = [trace0]\n",
    "\n",
    "iplot({\"data\":data,\"layout\":layout})"
   ]
  },
  {
   "cell_type": "code",
   "execution_count": null,
   "id": "6a92d273",
   "metadata": {},
   "outputs": [],
   "source": [
    "## 2 Istogrammi\n",
    "a = df[df.Group == \"A\"]\n",
    "b = df[df.Group == \"B\"]"
   ]
  },
  {
   "cell_type": "code",
   "execution_count": null,
   "id": "726b29a1",
   "metadata": {},
   "outputs": [],
   "source": [
    "configure_plotly_browser_state()\n",
    "trace0 = go.Histogram(x = a.sBP,\n",
    "                     name = \"Group A\")\n",
    "\n",
    "trace1 = go.Histogram(x = b.sBP,\n",
    "                     name = \"Group B\",\n",
    "                     opacity = 0.6)\n",
    "\n",
    "data = [trace0, trace1]\n",
    "\n",
    "layout = {\"title\":\"Distribution of systolic blood pressure of groups A and B\",\n",
    "         \"xaxis\":{\"title\":\"Systolic blood pressure\",\n",
    "                 \"zeroline\":False},\n",
    "          \"yaxis\":{\"title\":\"Count\",\n",
    "                 \"zeroline\":False},\n",
    "          \"barmode\":\"overlay\"}\n",
    "\n",
    "iplot({\"data\":data,\"layout\":layout})\n"
   ]
  },
  {
   "cell_type": "code",
   "execution_count": null,
   "id": "992cad37",
   "metadata": {},
   "outputs": [],
   "source": [
    "configure_plotly_browser_state()\n",
    "trace0 = go.Histogram(x = a.sBP,\n",
    "                     name = \"Group A\")\n",
    "\n",
    "trace1 = go.Histogram(x = b.sBP,\n",
    "                     name = \"Group B\")\n",
    "\n",
    "data = [trace0, trace1]\n",
    "\n",
    "layout = {\"title\":\"Distribution of systolic blood pressure of groups A and B\",\n",
    "         \"xaxis\":{\"title\":\"Systolic blood pressure\",\n",
    "                 \"zeroline\":False},\n",
    "          \"yaxis\":{\"title\":\"Count\",\n",
    "                 \"zeroline\":False},\n",
    "          \"barmode\":\"stack\"}\n",
    "\n",
    "iplot({\"data\":data,\"layout\":layout})\n"
   ]
  },
  {
   "cell_type": "code",
   "execution_count": null,
   "id": "d7f51ba7",
   "metadata": {},
   "outputs": [],
   "source": [
    "configure_plotly_browser_state()\n",
    "trace0 = go.Histogram(x = df.sBP,\n",
    "                     cumulative = {\"enabled\":True})\n",
    "\n",
    "data = [trace0]\n",
    "\n",
    "layout = {\"title\":\"Cumulative histogram\"}\n",
    "\n",
    "iplot({\"data\":data, \"layout\":layout})"
   ]
  },
  {
   "cell_type": "code",
   "execution_count": null,
   "id": "a87b6b9a",
   "metadata": {},
   "outputs": [],
   "source": [
    "## Dot Plot\n",
    "a.Grade.unique()"
   ]
  },
  {
   "cell_type": "code",
   "execution_count": null,
   "id": "b47437df",
   "metadata": {},
   "outputs": [],
   "source": [
    "a.Grade.unique().tolist() #this gives a list"
   ]
  },
  {
   "cell_type": "code",
   "execution_count": null,
   "id": "960c37c7",
   "metadata": {},
   "outputs": [],
   "source": [
    "np.sort(a.Grade.unique()).tolist()"
   ]
  },
  {
   "cell_type": "code",
   "execution_count": null,
   "id": "bae4f2d3",
   "metadata": {},
   "outputs": [],
   "source": [
    "a.groupby(\"Grade\").Cholesterol.mean()"
   ]
  },
  {
   "cell_type": "code",
   "execution_count": null,
   "id": "950b751e",
   "metadata": {},
   "outputs": [],
   "source": [
    "a.groupby(\"Grade\").Cholesterol.mean().tolist()"
   ]
  },
  {
   "cell_type": "code",
   "execution_count": null,
   "id": "1e58af92",
   "metadata": {},
   "outputs": [],
   "source": [
    "configure_plotly_browser_state()\n",
    "trace0 = {\"x\":a.groupby(\"Grade\").Cholesterol.mean().tolist(),\n",
    "         \"y\":np.sort(a.Grade.unique()).tolist(),\n",
    "         \"mode\":\"markers\",\n",
    "         \"marker\":{\"color\":\"orange\",\n",
    "                  \"size\":16},\n",
    "         \"name\":\"Group B\",\n",
    "         \"type\":\"scatter\"}\n",
    "\n",
    "trace1 = {\"x\":b.groupby(\"Grade\").Cholesterol.mean().tolist(),\n",
    "         \"y\":np.sort(b.Grade.unique()).tolist(),\n",
    "         \"mode\":\"markers\",\n",
    "         \"marker\":{\"color\":\"deepskyblue\",\n",
    "                  \"size\":16},\n",
    "         \"name\":\"Group B\",\n",
    "         \"type\":\"scatter\"}\n",
    "\n",
    "data = [trace0,trace1]\n",
    "layout = {\"title\":\"Average cholesterol level for the grades in each group\",\n",
    "         \"xaxis\":{\"title\":\"Cholesterol\"},\n",
    "         \"yaxis\":{\"title\":\"Grade\"}}\n",
    "\n",
    "iplot({\"data\":data, \"layout\":layout})"
   ]
  },
  {
   "cell_type": "code",
   "execution_count": null,
   "id": "7e7cf3ed",
   "metadata": {},
   "outputs": [],
   "source": [
    "# Bar Charts\n",
    "df.Group.value_counts()"
   ]
  },
  {
   "cell_type": "code",
   "execution_count": null,
   "id": "f74edbe7",
   "metadata": {},
   "outputs": [],
   "source": [
    "# Modo per farlo manuale\n",
    "configure_plotly_browser_state()\n",
    "trace0 = go.Bar(x = [\"A\",\"B\"],\n",
    "               y = [516,384])\n",
    "data = [trace0]\n",
    "\n",
    "iplot({\"data\":data})"
   ]
  },
  {
   "cell_type": "code",
   "execution_count": null,
   "id": "8bf2a0c4",
   "metadata": {},
   "outputs": [],
   "source": [
    "configure_plotly_browser_state()\n",
    "trace0 = go.Bar(x = [\"This is a longlonglonglonglonglonglonglong title for A\",\"This is a longlonglonglonglonglonglonglonglonglong long title for B\"],\n",
    "               y = [516,384])\n",
    "data = [trace0]\n",
    "layout = {\"xaxis\":{\"title\":\"Groups\",\"tickangle\":-30}}\n",
    "iplot({\"data\":data,\"layout\":layout})"
   ]
  },
  {
   "cell_type": "code",
   "execution_count": null,
   "id": "04138f7a",
   "metadata": {},
   "outputs": [],
   "source": [
    "configure_plotly_browser_state()\n",
    "trace0 = go.Bar(x = df.Group.unique().tolist(),\n",
    "                y = df.Group.value_counts().tolist())\n",
    "data = [trace0]\n",
    "iplot({\"data\":data})"
   ]
  },
  {
   "cell_type": "code",
   "execution_count": null,
   "id": "4e5f924f",
   "metadata": {},
   "outputs": [],
   "source": [
    "configure_plotly_browser_state()\n",
    "trace0 = go.Bar(x = df[df.Group == \"A\"].Grade.unique().tolist(),\n",
    "                y = df[df.Group == \"A\"].Grade.value_counts().tolist(),\n",
    "               name = \"Group A\",\n",
    "               marker = {\"color\":\"deepskyblue\"})\n",
    "\n",
    "trace1 = go.Bar(x = df[df.Group == \"B\"].Grade.unique().tolist(),\n",
    "                y = df[df.Group == \"B\"].Grade.value_counts().tolist(),\n",
    "               name = \"Group B\")\n",
    "\n",
    "layout = {\"title\":\"Number of patients in each grade for each individual group\",\n",
    "         \"xaxis\":{\"title\":\"Grades\"},\n",
    "         \"yaxis\":{\"title\":\"Count\",\n",
    "                 \"zeroline\":False}}\n",
    "\n",
    "data = [trace0, trace1]\n",
    "\n",
    "iplot({\"data\":data, \"layout\":layout})"
   ]
  }
 ],
 "metadata": {
  "kernelspec": {
   "display_name": "Python 3 (ipykernel)",
   "language": "python",
   "name": "python3"
  },
  "language_info": {
   "codemirror_mode": {
    "name": "ipython",
    "version": 3
   },
   "file_extension": ".py",
   "mimetype": "text/x-python",
   "name": "python",
   "nbconvert_exporter": "python",
   "pygments_lexer": "ipython3",
   "version": "3.9.7"
  }
 },
 "nbformat": 4,
 "nbformat_minor": 5
}
