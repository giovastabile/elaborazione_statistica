{
 "cells": [
  {
   "cell_type": "code",
   "execution_count": 13,
   "metadata": {},
   "outputs": [
    {
     "name": "stdout",
     "output_type": "stream",
     "text": [
      "0.09010975171461971\n",
      "67.32756330547916\n",
      "1.2900747613398769\n"
     ]
    }
   ],
   "source": [
    "from scipy.stats import norm\n",
    "from scipy.stats import t\n",
    "from scipy.stats.distributions import chi2\n",
    "from scipy.stats import fisher_exact\n",
    "\n",
    "print(norm.ppf(0.5359))\n",
    "print(chi2.ppf(0.005,df=100))\n",
    "print(t.ppf(0.9,df=100))\n"
   ]
  }
 ],
 "metadata": {
  "kernelspec": {
   "display_name": "Python 3.9.12",
   "language": "python",
   "name": "python3"
  },
  "language_info": {
   "codemirror_mode": {
    "name": "ipython",
    "version": 3
   },
   "file_extension": ".py",
   "mimetype": "text/x-python",
   "name": "python",
   "nbconvert_exporter": "python",
   "pygments_lexer": "ipython3",
   "version": "3.9.12"
  },
  "orig_nbformat": 4,
  "vscode": {
   "interpreter": {
    "hash": "4fc84484465084601b811cee3f2dbd41b30cc529506285d1faee74a272af2aa7"
   }
  }
 },
 "nbformat": 4,
 "nbformat_minor": 2
}
