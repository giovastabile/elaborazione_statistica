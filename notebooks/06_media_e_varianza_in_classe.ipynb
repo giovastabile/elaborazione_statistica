{
  "cells": [
    {
      "cell_type": "markdown",
      "metadata": {
        "id": "view-in-github",
        "colab_type": "text"
      },
      "source": [
        "<a href=\"https://colab.research.google.com/github/giovastabile/elaborazione_statistica/blob/main/06_media_e_varianza_in_classe.ipynb\" target=\"_parent\"><img src=\"https://colab.research.google.com/assets/colab-badge.svg\" alt=\"Open In Colab\"/></a>"
      ]
    },
    {
      "cell_type": "markdown",
      "metadata": {
        "id": "3S4JXuyU4gDm"
      },
      "source": [
        "Apri questo notebook in [colab](https://colab.research.google.com/github/giovastabile/elaborazione_statistica/blob/main/notebooks/06_media_e_varianza.ipynb).\n",
        "\n",
        "Importo le librerie standard di python per analisi dati:\n",
        "    \n",
        "* [Numpy](https://numpy.org/) Per manipolazione matrice e vettori\n",
        "* [pandas](https://pandas.pydata.org/) Per analisi dati\n",
        "* [matplotlib](https://matplotlib.org/) Per plot\n"
      ]
    },
    {
      "cell_type": "code",
      "execution_count": null,
      "metadata": {
        "id": "HenrMlmy4gDo"
      },
      "outputs": [],
      "source": [
        "import numpy as np\n",
        "import pandas as pd\n",
        "import matplotlib.pyplot as plt\n",
        "%matplotlib inline"
      ]
    },
    {
      "cell_type": "markdown",
      "metadata": {
        "id": "o2S0rzTJ4gDq"
      },
      "source": [
        "Implementazione della funzione che calcola la media:\n",
        "$$\n",
        "\\overline{x} = \\frac{1}{n} \\sum_{i=1}^n x_i \n",
        "$$"
      ]
    },
    {
      "cell_type": "markdown",
      "source": [
        "$$\\sigma^2 = \\frac{1}{n}\\sum_{i=1}^n (\\overline{x}-x_i)^2$$"
      ],
      "metadata": {
        "id": "N4iXanzE8PDC"
      }
    },
    {
      "cell_type": "code",
      "execution_count": null,
      "metadata": {
        "id": "Lb_0G5894gDq"
      },
      "outputs": [],
      "source": [
        "def mean(dataset):\n",
        "    n = len(dataset)\n",
        "    avg = 0\n",
        "    for i in dataset:\n",
        "        avg = avg+i\n",
        "    return avg/n"
      ]
    },
    {
      "cell_type": "code",
      "source": [
        "def var(dataset):\n",
        "  n = len(dataset)\n",
        "  sumsquare = 0\n",
        "  for i in dataset:\n",
        "    sumsquare = sumsquare + (np.mean(dataset)-i)**2\n",
        "  return sumsquare/n"
      ],
      "metadata": {
        "id": "TOk5c9nj9GM7"
      },
      "execution_count": null,
      "outputs": []
    },
    {
      "cell_type": "code",
      "source": [
        "a = np.array([3,4,5,6,7])\n",
        "print(mean(a))\n",
        "print(a.mean())"
      ],
      "metadata": {
        "id": "GsFgKMOI5Nmu",
        "colab": {
          "base_uri": "https://localhost:8080/"
        },
        "outputId": "31719ec0-e96c-4e50-eb85-654eeababb7f"
      },
      "execution_count": null,
      "outputs": [
        {
          "output_type": "stream",
          "name": "stdout",
          "text": [
            "5.0\n",
            "5.0\n"
          ]
        }
      ]
    },
    {
      "cell_type": "code",
      "source": [
        "print(var(a))\n",
        "print(a.var())"
      ],
      "metadata": {
        "colab": {
          "base_uri": "https://localhost:8080/"
        },
        "id": "12y8QFwZ-aQM",
        "outputId": "395123d8-763d-42f9-d5ba-50a0ab917324"
      },
      "execution_count": null,
      "outputs": [
        {
          "output_type": "stream",
          "name": "stdout",
          "text": [
            "2.0\n",
            "2.0\n"
          ]
        }
      ]
    },
    {
      "cell_type": "markdown",
      "metadata": {
        "id": "7L9_Ll624gDq"
      },
      "source": [
        "Implementazione della funzione che converte gradi Fahrenheit in Celsius:\n",
        "$$\n",
        "C = (F - 32)*\\frac{5}{9}\n",
        "$$"
      ]
    },
    {
      "cell_type": "code",
      "execution_count": null,
      "metadata": {
        "id": "DhmKsYhi4gDr"
      },
      "outputs": [],
      "source": [
        "def toCelsius(data):\n",
        "    return (data - 32)*5/9"
      ]
    },
    {
      "cell_type": "code",
      "source": [
        "far = np.array([100,70,85,90])\n",
        "cel = toCelsius(far)\n",
        "print(cel)"
      ],
      "metadata": {
        "colab": {
          "base_uri": "https://localhost:8080/"
        },
        "id": "8qb51Gb56NHT",
        "outputId": "3d9efc43-c73b-445b-b9d6-b4c869309a21"
      },
      "execution_count": null,
      "outputs": [
        {
          "output_type": "stream",
          "name": "stdout",
          "text": [
            "[37.77777778 21.11111111 29.44444444 32.22222222]\n"
          ]
        }
      ]
    },
    {
      "cell_type": "markdown",
      "metadata": {
        "id": "k6fjkjOe4gDr"
      },
      "source": [
        "Carico i dati in un dataset di pandas, mi limito alla temperatura di Roma e stampo il dataset"
      ]
    },
    {
      "cell_type": "code",
      "execution_count": null,
      "metadata": {
        "id": "RKMl-p114gDr",
        "outputId": "99e8083e-9023-47f4-a5b7-92c2667192d1",
        "colab": {
          "base_uri": "https://localhost:8080/"
        }
      },
      "outputs": [
        {
          "output_type": "stream",
          "name": "stdout",
          "text": [
            "       Region Country  State  City  Month  Day  Year  AvgTemperature\n",
            "9266   Europe   Italy    NaN  Rome      1    1  1995            58.3\n",
            "9267   Europe   Italy    NaN  Rome      1    2  1995            46.5\n",
            "9268   Europe   Italy    NaN  Rome      1    3  1995            41.6\n",
            "9269   Europe   Italy    NaN  Rome      1    4  1995            39.9\n",
            "9270   Europe   Italy    NaN  Rome      1    5  1995            37.0\n",
            "...       ...     ...    ...   ...    ...  ...   ...             ...\n",
            "18527  Europe   Italy    NaN  Rome      5    9  2020            61.8\n",
            "18528  Europe   Italy    NaN  Rome      5   10  2020            65.7\n",
            "18529  Europe   Italy    NaN  Rome      5   11  2020            65.6\n",
            "18530  Europe   Italy    NaN  Rome      5   12  2020            66.6\n",
            "18531  Europe   Italy    NaN  Rome      5   13  2020            60.2\n",
            "\n",
            "[9266 rows x 8 columns]\n"
          ]
        }
      ],
      "source": [
        "df_temp = pd.read_csv('https://raw.githubusercontent.com/giovastabile/elaborazione_statistica/main/notebooks/data/city_temperature.csv')\n",
        "df_rome = df_temp.loc[df_temp['City'] == 'Rome']\n",
        "print(df_rome)"
      ]
    },
    {
      "cell_type": "markdown",
      "metadata": {
        "id": "SWZ1S4A54gDs"
      },
      "source": [
        "Creo un vettore che contiene solamente la temperatura e creo il vettore convertito in Celsius"
      ]
    },
    {
      "cell_type": "code",
      "execution_count": null,
      "metadata": {
        "id": "ceQXUVgS4gDs",
        "colab": {
          "base_uri": "https://localhost:8080/"
        },
        "outputId": "6f282cfa-ae15-4d1b-ab81-4d1ccd64e6de"
      },
      "outputs": [
        {
          "output_type": "stream",
          "name": "stdout",
          "text": [
            "(9266,)\n"
          ]
        }
      ],
      "source": [
        "Temp = df_rome.values[:,7]\n",
        "print(Temp.shape)\n",
        "Temp_C = toCelsius(Temp)"
      ]
    },
    {
      "cell_type": "markdown",
      "metadata": {
        "id": "IFVKxrd-4gDt"
      },
      "source": [
        "Calcolo e stampo la temperatura usando la funzione media di numpy in Farhenheit"
      ]
    },
    {
      "cell_type": "code",
      "execution_count": null,
      "metadata": {
        "id": "kAHpXzHP4gDt",
        "outputId": "f1153934-5b45-4738-b5f5-a12d73849c6e",
        "colab": {
          "base_uri": "https://localhost:8080/"
        }
      },
      "outputs": [
        {
          "output_type": "stream",
          "name": "stdout",
          "text": [
            "60.22482192963531\n"
          ]
        }
      ],
      "source": [
        "print(np.mean(Temp))"
      ]
    },
    {
      "cell_type": "markdown",
      "metadata": {
        "id": "rLTaVrJ04gDt"
      },
      "source": [
        "Calcolo e stampo la temperatura usando la funzione media di numpy in Celsius"
      ]
    },
    {
      "cell_type": "code",
      "execution_count": null,
      "metadata": {
        "id": "W0VdxCMc4gDt",
        "outputId": "ccc656b6-f373-4421-dd23-81916a73aaf1",
        "colab": {
          "base_uri": "https://localhost:8080/"
        }
      },
      "outputs": [
        {
          "output_type": "stream",
          "name": "stdout",
          "text": [
            "15.680456627575104\n"
          ]
        }
      ],
      "source": [
        "print(np.mean(Temp_C))"
      ]
    },
    {
      "cell_type": "code",
      "execution_count": null,
      "metadata": {
        "id": "womaVGHY4gDu",
        "outputId": "d6779d99-6fcd-4dbe-ad1c-7475bc7c768f",
        "colab": {
          "base_uri": "https://localhost:8080/"
        }
      },
      "outputs": [
        {
          "output_type": "stream",
          "name": "stdout",
          "text": [
            "15.680456627575174\n"
          ]
        }
      ],
      "source": [
        "print(toCelsius(np.mean(Temp)))"
      ]
    },
    {
      "cell_type": "code",
      "execution_count": null,
      "metadata": {
        "id": "ugRv-r7r4gDu",
        "colab": {
          "base_uri": "https://localhost:8080/"
        },
        "outputId": "71f0f0f2-e721-4f4c-ae3a-dfd6a23323bb"
      },
      "outputs": [
        {
          "output_type": "stream",
          "name": "stdout",
          "text": [
            "      Gender     Height      Weight\n",
            "0       Male  73.847017  241.893563\n",
            "1       Male  68.781904  162.310473\n",
            "2       Male  74.110105  212.740856\n",
            "3       Male  71.730978  220.042470\n",
            "4       Male  69.881796  206.349801\n",
            "...      ...        ...         ...\n",
            "9995  Female  66.172652  136.777454\n",
            "9996  Female  67.067155  170.867906\n",
            "9997  Female  63.867992  128.475319\n",
            "9998  Female  69.034243  163.852461\n",
            "9999  Female  61.944246  113.649103\n",
            "\n",
            "[10000 rows x 3 columns]\n"
          ]
        }
      ],
      "source": [
        "df = pd.read_csv('https://raw.githubusercontent.com/giovastabile/elaborazione_statistica/main/notebooks/data/weight-height.csv')\n",
        "females = df.loc[df['Gender'] == 'Female']\n",
        "print(df)"
      ]
    },
    {
      "cell_type": "code",
      "source": [
        "males = df.loc[df['Gender'] == 'Male']\n",
        "height_m = males.values[:,1]\n",
        "weight_m = males.values[:,2]\n",
        "print(mean(height_m))\n",
        "print(mean(weight_m))\n",
        "height_tot = df.values[:,1]\n",
        "weight_tot = df.values[:,2]\n",
        "print(mean(height_tot))\n",
        "print(mean(weight_tot))\n",
        "males_fat = males.loc[males['Weight'] >= 250]\n",
        "\n",
        "females_short = females.loc[females['Height']<=60]\n",
        "\n",
        "print(females_short)"
      ],
      "metadata": {
        "colab": {
          "base_uri": "https://localhost:8080/"
        },
        "id": "pxlShGXGCSEE",
        "outputId": "c9f2b03e-fc9a-4a25-a909-a76a260843d8"
      },
      "execution_count": null,
      "outputs": [
        {
          "output_type": "stream",
          "name": "stdout",
          "text": [
            "69.02634590621737\n",
            "187.0206206581929\n",
            "66.36755975482106\n",
            "161.44035683283076\n",
            "      Gender     Height      Weight\n",
            "5000  Female  58.910732  102.088326\n",
            "5013  Female  58.895886  101.682613\n",
            "5014  Female  58.438249   98.192621\n",
            "5026  Female  56.547975   84.872124\n",
            "5060  Female  59.608560  109.813156\n",
            "...      ...        ...         ...\n",
            "9954  Female  59.699024  111.148256\n",
            "9978  Female  57.375759  114.192209\n",
            "9984  Female  59.047029  111.707369\n",
            "9988  Female  59.538729  121.244876\n",
            "9994  Female  59.098250  110.529686\n",
            "\n",
            "[408 rows x 3 columns]\n"
          ]
        }
      ]
    },
    {
      "cell_type": "code",
      "source": [
        "plt.plot(height_tot,weight_tot,\"o\")"
      ],
      "metadata": {
        "colab": {
          "base_uri": "https://localhost:8080/",
          "height": 283
        },
        "id": "BLU9IOJBGG19",
        "outputId": "d79690fb-32a9-4b42-81fe-e4eadb5ce253"
      },
      "execution_count": null,
      "outputs": [
        {
          "output_type": "execute_result",
          "data": {
            "text/plain": [
              "[<matplotlib.lines.Line2D at 0x7f0959cb6e80>]"
            ]
          },
          "metadata": {},
          "execution_count": 43
        },
        {
          "output_type": "display_data",
          "data": {
            "text/plain": [
              "<Figure size 432x288 with 1 Axes>"
            ],
            "image/png": "[encoded data removed]"
          },
          "metadata": {
            "needs_background": "light"
          }
        }
      ]
    },
    {
      "cell_type": "code",
      "execution_count": null,
      "metadata": {
        "id": "wTDwMsa44gDu",
        "outputId": "58e5bf83-247f-4657-fbea-26a81109c5a2",
        "colab": {
          "base_uri": "https://localhost:8080/"
        }
      },
      "outputs": [
        {
          "output_type": "stream",
          "name": "stdout",
          "text": [
            "      Gender     Height      Weight\n",
            "5000  Female  58.910732  102.088326\n",
            "5001  Female  65.230013  141.305823\n",
            "5002  Female  63.369004  131.041403\n",
            "5003  Female  64.479997  128.171511\n",
            "5004  Female  61.793096  129.781407\n",
            "...      ...        ...         ...\n",
            "9995  Female  66.172652  136.777454\n",
            "9996  Female  67.067155  170.867906\n",
            "9997  Female  63.867992  128.475319\n",
            "9998  Female  69.034243  163.852461\n",
            "9999  Female  61.944246  113.649103\n",
            "\n",
            "[5000 rows x 3 columns]\n"
          ]
        }
      ],
      "source": [
        "print(females)"
      ]
    },
    {
      "cell_type": "code",
      "execution_count": null,
      "metadata": {
        "id": "ZUODZEIC4gDu"
      },
      "outputs": [],
      "source": [
        "height = females.values[:,1]\n",
        "weight = females.values[:,2]"
      ]
    },
    {
      "cell_type": "code",
      "execution_count": null,
      "metadata": {
        "id": "Ff5_1MxN4gDu",
        "outputId": "3e8eb99b-a401-41ad-ecc3-cd62ed4c9fc5",
        "colab": {
          "base_uri": "https://localhost:8080/"
        }
      },
      "outputs": [
        {
          "output_type": "stream",
          "name": "stdout",
          "text": [
            "63.708773603424916\n",
            "135.8600930074687\n"
          ]
        }
      ],
      "source": [
        "print(mean(height))\n",
        "print(mean(weight))"
      ]
    },
    {
      "cell_type": "code",
      "source": [],
      "metadata": {
        "id": "YftEVi1sCQr2"
      },
      "execution_count": null,
      "outputs": []
    },
    {
      "cell_type": "code",
      "execution_count": null,
      "metadata": {
        "id": "o7IAj14c4gDv",
        "outputId": "f46a2594-7a03-4a56-efcc-44c1609be0d1"
      },
      "outputs": [
        {
          "data": {
            "text/plain": [
              "135.8600930074687"
            ]
          },
          "execution_count": 28,
          "metadata": {},
          "output_type": "execute_result"
        }
      ],
      "source": [
        "np.mean(height)"
      ]
    },
    {
      "cell_type": "markdown",
      "metadata": {
        "id": "Fakc0oHw4gDv"
      },
      "source": [
        "Usando la tabella sotto calcola l'età media di un maschio italiano, di una femmina e di un cittadino italiano\n",
        "\n",
        "|Età|Maschi|Femmine|Totale| \n",
        "|:---:|:---:|:---:| :---:|\n",
        "00-09 |2 785 099|2 634 666| 5 419 765| \n",
        "10-19 |2 941 791|2 783 415| 5 725 206| \n",
        "20-29 |3 637 073|3 508 575| 7 145 648| \n",
        "30-39 |4 781 311|4 681 824| 9 463 135| \n",
        "40-49 |4 279 292|4 301 949| 8 581 241| \n",
        "50-59 |3 662 489|3 805 269| 7 467 758| \n",
        "60-69 |3 090 806|3 435 301| 6 526 107| \n",
        "70-79 |2 240 346|2 994 965| 5 235 311| \n",
        "80-89 |832 683 |1 574 000| 2 406 683 |\n",
        "90-999 |125 914 |365 607 |491 521|"
      ]
    },
    {
      "cell_type": "code",
      "execution_count": null,
      "metadata": {
        "id": "xJxktBtB4gDv",
        "colab": {
          "base_uri": "https://localhost:8080/"
        },
        "outputId": "066d41e2-c7f9-470f-d760-83e759bc000d"
      },
      "outputs": [
        {
          "output_type": "stream",
          "name": "stdout",
          "text": [
            "[ 5 15 25 35 45 55 65 75 85 95]\n",
            "40.95 44.07 42.55\n",
            "40.94887958488912 44.06829689222119 42.55417616886074\n"
          ]
        }
      ],
      "source": [
        "#Qua il codice\n",
        "import numpy as np\n",
        "eta = np.arange(5,100,10)\n",
        "maschi = np.array([\n",
        "2785099,\n",
        "2941791,\n",
        "3637073,\n",
        "4781311,\n",
        "4279292,\n",
        "3662489,\n",
        "3090806,\n",
        "2240346,\n",
        "832683,\n",
        "125914])\n",
        "femmine = np.array([\n",
        "2634666,\n",
        "2783415,\n",
        "3508575,\n",
        "4681824,\n",
        "4301949,\n",
        "3805269,\n",
        "3435301,\n",
        "2994965,\n",
        "1574000,\n",
        "365607])\n",
        "italiani=np.array([\n",
        "5419765,\n",
        "5725206,\n",
        "7145648,\n",
        "9463135,\n",
        "8581241,\n",
        "7467758,\n",
        "6526107,\n",
        "5235311,\n",
        "2406683,\n",
        "491521\n",
        "]\n",
        ")\n",
        "\n",
        "print(eta)\n",
        "\n",
        "media_maschi = (eta*maschi).sum()/maschi.sum()\n",
        "media_femmine = (eta*femmine).sum()/femmine.sum()\n",
        "media_italiani = (eta*italiani).sum()/italiani.sum()\n",
        "\n",
        "print(\"%0.2f\" % media_maschi, \"%0.2f\" % media_femmine, \"%0.2f\" % media_italiani)\n",
        "print(media_maschi, media_femmine, media_italiani)"
      ]
    }
  ],
  "metadata": {
    "kernelspec": {
      "display_name": "Python 3.9.12",
      "language": "python",
      "name": "python3"
    },
    "language_info": {
      "codemirror_mode": {
        "name": "ipython",
        "version": 3
      },
      "file_extension": ".py",
      "mimetype": "text/x-python",
      "name": "python",
      "nbconvert_exporter": "python",
      "pygments_lexer": "ipython3",
      "version": "3.9.12"
    },
    "vscode": {
      "interpreter": {
        "hash": "4fc84484465084601b811cee3f2dbd41b30cc529506285d1faee74a272af2aa7"
      }
    },
    "colab": {
      "provenance": [],
      "include_colab_link": true
    }
  },
  "nbformat": 4,
  "nbformat_minor": 0
}