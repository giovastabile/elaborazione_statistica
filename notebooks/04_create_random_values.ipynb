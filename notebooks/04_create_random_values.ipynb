{
 "cells": [
  {
   "cell_type": "markdown",
   "id": "9a29f1eb",
   "metadata": {},
   "source": [
    "Apri questo notebook in [colab](https://colab.research.google.com/github/giovastabile/elaborazione_statistica/blob/main/notebooks/04_create_random_values.ipynb)."
   ]
  },
  {
   "cell_type": "code",
   "execution_count": null,
   "id": "2e440c48",
   "metadata": {},
   "outputs": [],
   "source": [
    "import pandas as pd\n",
    "import numpy as np\n",
    "from scipy import stats\n",
    "from plotly.offline import iplot, init_notebook_mode\n",
    "init_notebook_mode()\n",
    "import plotly.graph_objs as go"
   ]
  },
  {
   "cell_type": "markdown",
   "id": "47a0ec76",
   "metadata": {},
   "source": [
    "Generiamo numeri random tra 0 e 1"
   ]
  },
  {
   "cell_type": "code",
   "execution_count": null,
   "id": "2f87edcc",
   "metadata": {},
   "outputs": [],
   "source": [
    "np.random.seed(123)\n",
    "np.random.rand()"
   ]
  },
  {
   "cell_type": "code",
   "execution_count": null,
   "id": "a0d38bce",
   "metadata": {},
   "outputs": [],
   "source": [
    "# Generiamo 10 numeri random\n",
    "np.random.seed(123)\n",
    "np.random.rand(10)"
   ]
  },
  {
   "cell_type": "code",
   "execution_count": null,
   "id": "ca7dfafd",
   "metadata": {},
   "outputs": [],
   "source": [
    "np.random.seed(123)\n",
    "np.random.rand(5,5)"
   ]
  },
  {
   "cell_type": "code",
   "execution_count": null,
   "id": "ed7a5ddc",
   "metadata": {},
   "outputs": [],
   "source": [
    "np.random.seed(123)\n",
    "np.random.randint(low=15, high = 86, size = 10)"
   ]
  },
  {
   "cell_type": "code",
   "execution_count": null,
   "id": "48d55ee9",
   "metadata": {},
   "outputs": [],
   "source": [
    "# da distribuzione normale\n",
    "np.random.seed(123)\n",
    "np.random.randn(10)"
   ]
  },
  {
   "cell_type": "code",
   "execution_count": null,
   "id": "2484a073",
   "metadata": {},
   "outputs": [],
   "source": [
    "# da scipy stats\n",
    "np.random.seed(123)\n",
    "# Media 15, deviazione standard 3\n",
    "stats.norm.rvs(loc = 15, scale = 3, size = 10)"
   ]
  },
  {
   "cell_type": "code",
   "execution_count": null,
   "id": "c81ec5f6",
   "metadata": {},
   "outputs": [],
   "source": [
    "np.random.seed(123)\n",
    "# Distribuzione chi quadrato\n",
    "stats.chi2.rvs(2, size = 10)"
   ]
  },
  {
   "cell_type": "code",
   "execution_count": null,
   "id": "ec78181a",
   "metadata": {},
   "outputs": [],
   "source": [
    "np.random.seed(123)\n",
    "np.random.choice(['Treatment group',\n",
    "                  \"control group\"],\n",
    "                 size = 10,\n",
    "                 replace = True,\n",
    "                 p = [0.5, 0.5])"
   ]
  },
  {
   "cell_type": "code",
   "execution_count": null,
   "id": "560412d0",
   "metadata": {},
   "outputs": [],
   "source": [
    "np.arange(1,10)"
   ]
  },
  {
   "cell_type": "code",
   "execution_count": null,
   "id": "0132ee40",
   "metadata": {},
   "outputs": [],
   "source": [
    "#Come creare un dataframe\n",
    "np.random.seed(123)\n",
    "df_dict = pd.DataFrame({\"ID\":np.arange(1,11),\n",
    "                       \"Age\":np.random.randint(low = 18,\n",
    "                                              high = 86,\n",
    "                                              size = 10),\n",
    "                       \"Group\":np.random.choice([\"Treatment grpup\",\n",
    "                                                \"Control group\"],\n",
    "                                               size = 10)})"
   ]
  },
  {
   "cell_type": "code",
   "execution_count": null,
   "id": "b1eb00b1",
   "metadata": {},
   "outputs": [],
   "source": [
    "df_dict"
   ]
  },
  {
   "cell_type": "code",
   "execution_count": null,
   "id": "22128ea0",
   "metadata": {},
   "outputs": [],
   "source": [
    "# Aggiungere una colonna\n",
    "np.random.seed(123)\n",
    "df_dict['VariableX'] = df_dict.Age.values + np.abs((10*np.random.randn(10)))"
   ]
  },
  {
   "cell_type": "code",
   "execution_count": null,
   "id": "a2059d46",
   "metadata": {},
   "outputs": [],
   "source": [
    "df_dict"
   ]
  },
  {
   "cell_type": "code",
   "execution_count": null,
   "id": "f15d6aa6",
   "metadata": {},
   "outputs": [],
   "source": [
    "#Facciamo uno scatter plot\n",
    "trace0 = go.Scatter(x = df_dict.Age,\n",
    "                   y = df_dict.VariableX,\n",
    "                   mode = 'markers',\n",
    "                   marker = {\"size\":10})\n",
    "data = [trace0]\n",
    "iplot({\"data\":data})"
   ]
  }
 ],
 "metadata": {
  "kernelspec": {
   "display_name": "Python 3.9.12",
   "language": "python",
   "name": "python3"
  },
  "language_info": {
   "codemirror_mode": {
    "name": "ipython",
    "version": 3
   },
   "file_extension": ".py",
   "mimetype": "text/x-python",
   "name": "python",
   "nbconvert_exporter": "python",
   "pygments_lexer": "ipython3",
   "version": "3.9.12"
  },
  "vscode": {
   "interpreter": {
    "hash": "4fc84484465084601b811cee3f2dbd41b30cc529506285d1faee74a272af2aa7"
   }
  }
 },
 "nbformat": 4,
 "nbformat_minor": 5
}
