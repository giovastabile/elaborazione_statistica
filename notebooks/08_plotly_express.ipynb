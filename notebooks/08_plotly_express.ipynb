{
 "cells": [
  {
   "cell_type": "code",
   "execution_count": null,
   "metadata": {},
   "outputs": [],
   "source": [
    "!mkdir -p data\n",
    "![ -f data/style.css ] || curl -L https://raw.githubusercontent.com/giovastabile/elaborazione_statistica/main/notebooks/data/style.css -o data/style.css\n",
    "!mkdir -p data\n",
    "![ -f data/participants.csv ] || curl -L https://raw.githubusercontent.com/giovastabile/elaborazione_statistica/main/notebooks/data/data/participants.csv -o data/participants.csv\n",
    "from IPython.display import HTML\n",
    "HTML('<style>{}</style>'.format(open('data/style.css').read()))"
   ]
  },
  {
   "cell_type": "markdown",
   "metadata": {},
   "source": [
    "# Plotly Express"
   ]
  },
  {
   "cell_type": "markdown",
   "metadata": {},
   "source": [
    "## Introduction"
   ]
  },
  {
   "cell_type": "markdown",
   "metadata": {},
   "source": [
    "In this notebook, we explore the plotly express library.  This library incorporates pandas dataframe objects and makes plotting very simple."
   ]
  },
  {
   "cell_type": "markdown",
   "metadata": {},
   "source": [
    "## Library imports"
   ]
  },
  {
   "cell_type": "code",
   "execution_count": null,
   "metadata": {},
   "outputs": [],
   "source": [
    "import plotly.express as px\n",
    "import plotly.io as pio\n",
    "\n",
    "pio.templates.default = 'none'"
   ]
  },
  {
   "cell_type": "code",
   "execution_count": null,
   "metadata": {},
   "outputs": [],
   "source": [
    "import numpy as np\n",
    "import pandas as pd"
   ]
  },
  {
   "cell_type": "markdown",
   "metadata": {},
   "source": [
    "## Scatter plots"
   ]
  },
  {
   "cell_type": "code",
   "execution_count": null,
   "metadata": {},
   "outputs": [],
   "source": [
    "df = pd.read_csv('data/participants.csv')\n",
    "df.head()"
   ]
  },
  {
   "cell_type": "markdown",
   "metadata": {},
   "source": [
    "Our first plot will simply have *Feature1* as the dependent variable on the $x$-axis and *Feature2* as the dependent variable on the $y$-axis."
   ]
  },
  {
   "cell_type": "markdown",
   "metadata": {},
   "source": [
    "The `scatter()` function creates a scatter plot.  Our first argument is the dataframe object from which we want to take our data.  We specify the column names for the `x=` and `y=` arguments.  Finally, we add the `.show()` method to show the plot."
   ]
  },
  {
   "cell_type": "code",
   "execution_count": null,
   "metadata": {},
   "outputs": [],
   "source": [
    "px.scatter(df, x='Feature1', y='Feature2')"
   ]
  },
  {
   "cell_type": "markdown",
   "metadata": {},
   "source": [
    "We can show this correlation between *Feature1* and *Feature2* specifically separated by the sample space elements of a categorical variable such as *Target2*.  We can find the sample space elements using the `.unique()` method for the `df.Target2` series object."
   ]
  },
  {
   "cell_type": "code",
   "execution_count": null,
   "metadata": {},
   "outputs": [],
   "source": [
    "df.Target2.unique()"
   ]
  },
  {
   "cell_type": "markdown",
   "metadata": {},
   "source": [
    "By adding the `color=` argment set to the specified column, the sactter plot will display the data according to our sample space elements for the chosen categorical variable."
   ]
  },
  {
   "cell_type": "code",
   "execution_count": null,
   "metadata": {},
   "outputs": [],
   "source": [
    "px.scatter(df, x='Feature1', y='Feature2', color='Target2').show()"
   ]
  },
  {
   "cell_type": "markdown",
   "metadata": {},
   "source": [
    "We add a title to our plot with the `title=` argument."
   ]
  },
  {
   "cell_type": "code",
   "execution_count": null,
   "metadata": {},
   "outputs": [],
   "source": [
    "px.scatter(df, x='Feature1', y='Feature2', color='Target2', title ='Correlation between Feature 1 and Feature 2')"
   ]
  },
  {
   "cell_type": "markdown",
   "metadata": {},
   "source": [
    "To make more changes to the labels of our scatter plot, we give the plot a computer variable name and update the plot with various methods.  Below, we specify the axes labels.  For the $x$-axis, we specify the title and its attributes separately.  For the $y$-axis, we do it all in the same method."
   ]
  },
  {
   "cell_type": "code",
   "execution_count": null,
   "metadata": {},
   "outputs": [],
   "source": [
    "fig = px.scatter(df, x='Feature1', y='Feature2', color='Target2', title ='Correlation between Feature 1 and Feature 2')\n",
    "fig.update_xaxes(title_text='Values for feature 1')\n",
    "fig.update_xaxes(title_font=dict(size=12, family='Courier', color='grey'))\n",
    "fig.update_yaxes(title_text='Values for feature 2', title_font=dict(size=12, family='Courier', color='grey'))\n",
    "fig.show()"
   ]
  },
  {
   "cell_type": "markdown",
   "metadata": {},
   "source": [
    "For simple plot, we can use the `labels=` argument to change the axes labels.  By default, the column names in the dataframe object are used to display names for the axes.  This argument takes a dictionary as value, where the key is the column name and the value is the new name."
   ]
  },
  {
   "cell_type": "code",
   "execution_count": null,
   "metadata": {},
   "outputs": [],
   "source": [
    "px.scatter(df, x='Feature1', y='Feature2', color='Target2', labels={'Feature1':'Values for feature 1', 'Feature2':'Values for feature 2'}).show()"
   ]
  },
  {
   "cell_type": "markdown",
   "metadata": {},
   "source": [
    "The plotly express library allows us to add more visual information along the axes.  Scatter plots make it difficult to visualize the distribution in the data.  Below, we add a histogram along the $x$-axis (displayed at the top) and a box-and-whisker plot along the $y$-axis (displayed on the right)."
   ]
  },
  {
   "cell_type": "code",
   "execution_count": null,
   "metadata": {},
   "outputs": [],
   "source": [
    "fig = px.scatter(df, x='Feature1', y='Feature2', color='Target2', title ='Correlation between Feature 1 and Feature 2', marginal_x='histogram', marginal_y='box')\n",
    "fig.show()"
   ]
  },
  {
   "cell_type": "markdown",
   "metadata": {},
   "source": [
    "To show a linear model in the plot, we add the `trendline=` argument.  Setting it to `'ols'` produces a linear model using ordinary least squares."
   ]
  },
  {
   "cell_type": "code",
   "execution_count": null,
   "metadata": {},
   "outputs": [],
   "source": [
    "px.scatter(df, x='Feature1', y='Feature2', color='Target2', labels={'Feature1':'Values for feature 1', 'Feature2':'Values for feature 2'}, trendline='ols').show()"
   ]
  },
  {
   "cell_type": "markdown",
   "metadata": {},
   "source": [
    "A scatter plot can become a bit *busy*.  Instead of showing all the data on a single plot, we use the `facet_col=` argument to create plots in columns."
   ]
  },
  {
   "cell_type": "code",
   "execution_count": null,
   "metadata": {},
   "outputs": [],
   "source": [
    "px.scatter(df, x='Feature1', y='Feature2', facet_col='Target2', labels={'Feature1':'Values for feature 1', 'Feature2':'Values for feature 2'}, trendline='ols').show()"
   ]
  },
  {
   "cell_type": "markdown",
   "metadata": {},
   "source": [
    "Scatter plot can add a third continuous numerical variable by altering the color of each marker in the plot.  This is done by setting a numerical variable as value of the `color=` argument.  We specify the color range we would like to use with the `color_continuous_scale=` argument to override the default."
   ]
  },
  {
   "cell_type": "code",
   "execution_count": null,
   "metadata": {},
   "outputs": [],
   "source": [
    "px.scatter(df, x='Feature1', y='Feature2', color='Feature3', labels={'Feature1':'Values for feature 1', 'Feature2':'Values for feature 2'}, trendline='ols').show()"
   ]
  },
  {
   "cell_type": "markdown",
   "metadata": {},
   "source": [
    "Another ways to visually add a third numerical is by changing the size of each marker.  This is done with the `size=` argument."
   ]
  },
  {
   "cell_type": "code",
   "execution_count": null,
   "metadata": {},
   "outputs": [],
   "source": [
    "px.scatter(df, x='Feature1', y='Feature2', size='Feature3', color='Target2', labels={'Feature1':'Values for feature 1', 'Feature2':'Values for feature 2'}, trendline='ols').show()"
   ]
  },
  {
   "cell_type": "markdown",
   "metadata": {},
   "source": [
    "## Heat maps"
   ]
  },
  {
   "cell_type": "markdown",
   "metadata": {},
   "source": [
    "Heat maps are also used for visualizing continuous numerical variables."
   ]
  },
  {
   "cell_type": "code",
   "execution_count": null,
   "metadata": {},
   "outputs": [],
   "source": [
    "px.density_heatmap(\n",
    "    df,\n",
    "    x='Feature1',\n",
    "    y='Feature2'\n",
    ")"
   ]
  },
  {
   "cell_type": "markdown",
   "metadata": {},
   "source": [
    "The color information displays how many of our subject fall within the bins created by the two variables.  Since there are more cases towards the middle on both axes, with fewer cases further out, we suspect a normal distribution for both variable.  We visualize this by adding histograms to the margins."
   ]
  },
  {
   "cell_type": "code",
   "execution_count": null,
   "metadata": {},
   "outputs": [],
   "source": [
    "px.density_heatmap(\n",
    "    df,\n",
    "    x='Feature1',\n",
    "    y='Feature2',\n",
    "    marginal_x='histogram',\n",
    "    marginal_y='histogram'\n",
    ")"
   ]
  },
  {
   "cell_type": "markdown",
   "metadata": {},
   "source": [
    "## Contour plots"
   ]
  },
  {
   "cell_type": "markdown",
   "metadata": {},
   "source": [
    "Contour plots provide similar information, but instead of bins, we have continuous curves."
   ]
  },
  {
   "cell_type": "code",
   "execution_count": null,
   "metadata": {},
   "outputs": [],
   "source": [
    "px.density_contour(\n",
    "    df,\n",
    "    x='Feature1',\n",
    "    y='Feature2',\n",
    "    facet_col='Target2'\n",
    ")"
   ]
  },
  {
   "cell_type": "markdown",
   "metadata": {},
   "source": [
    "## Box-and-whisker plots"
   ]
  },
  {
   "cell_type": "markdown",
   "metadata": {},
   "source": [
    "Box plots remain the most used data visualization for numerical variables, especially when comparing the values for a variable along the sample space elements of a categorical variable. The`box()` function in plotly express creates box-and-whisker plots."
   ]
  },
  {
   "cell_type": "markdown",
   "metadata": {},
   "source": [
    "Below, we show the distribution of the *Feature1* variable for the three classes in the *Group* variable."
   ]
  },
  {
   "cell_type": "code",
   "execution_count": null,
   "metadata": {},
   "outputs": [],
   "source": [
    "df.Group.unique()"
   ]
  },
  {
   "cell_type": "code",
   "execution_count": null,
   "metadata": {},
   "outputs": [],
   "source": [
    "px.box(\n",
    "    df,\n",
    "    y='Feature1',\n",
    "    x='Group'\n",
    ")"
   ]
  },
  {
   "cell_type": "markdown",
   "metadata": {},
   "source": [
    "To get an idea of the actual data values, we set `'all` as the value for the `points=` argument.  We also set titles and axes labels as before."
   ]
  },
  {
   "cell_type": "code",
   "execution_count": null,
   "metadata": {},
   "outputs": [],
   "source": [
    "px.box(\n",
    "    df, \n",
    "    y='Feature1',\n",
    "    x='Group',\n",
    "    points='all',\n",
    "    title='Comparison of featur 1 per group',\n",
    "    labels={\n",
    "        'Feature1':'feature 1',\n",
    "        'Group':'groups'\n",
    "    }\n",
    ")"
   ]
  },
  {
   "cell_type": "markdown",
   "metadata": {},
   "source": [
    "We use the `color=` argument set to another categorical variable for further subdivision of the visualization."
   ]
  },
  {
   "cell_type": "code",
   "execution_count": null,
   "metadata": {},
   "outputs": [],
   "source": [
    "px.box(\n",
    "    df,\n",
    "    y='Feature1',\n",
    "    x='Group',\n",
    "    color='Target2'\n",
    ")"
   ]
  },
  {
   "cell_type": "markdown",
   "metadata": {},
   "source": [
    "## Histograms"
   ]
  },
  {
   "cell_type": "markdown",
   "metadata": {},
   "source": [
    "Histograms give a visual represenation of the distribution of data point values for a continuous numerical variable."
   ]
  },
  {
   "cell_type": "markdown",
   "metadata": {},
   "source": [
    "Below, we create a stacked histogram showing the counts of subjects falling in the bin intervals for the *Feature1* variable divided by the sample space elements of the *Target2* variable."
   ]
  },
  {
   "cell_type": "code",
   "execution_count": null,
   "metadata": {},
   "outputs": [],
   "source": [
    "px.histogram(\n",
    "    df,\n",
    "    x='Feature1',\n",
    "    color='Target2',\n",
    "    title='Distribution of feature 1 for targets I and II'\n",
    ")"
   ]
  },
  {
   "cell_type": "markdown",
   "metadata": {},
   "source": [
    "Setting the `barmode=` argument to `'overlay'` plots both distributions over each other, adding transparency so as to see both distributions."
   ]
  },
  {
   "cell_type": "code",
   "execution_count": null,
   "metadata": {},
   "outputs": [],
   "source": [
    "px.histogram(\n",
    "    df,\n",
    "    x='Feature1',\n",
    "    color='Target2',\n",
    "    barmode='overlay',\n",
    "    title='Distribution of feature 1 for targets I and II'\n",
    ")"
   ]
  },
  {
   "cell_type": "markdown",
   "metadata": {},
   "source": [
    "By default, the counts are shown on the $y$-axis.  Below, we change this to show a relative frequency expressed as a percentage using the `histnorm=` argument set to `percent`."
   ]
  },
  {
   "cell_type": "code",
   "execution_count": null,
   "metadata": {},
   "outputs": [],
   "source": [
    "px.histogram(\n",
    "    df,\n",
    "    x='Feature1',\n",
    "    color='Target2',\n",
    "    barmode='overlay',\n",
    "    histnorm='percent',\n",
    "    title='Distribution of feature 1 for targets I and II'\n",
    ")"
   ]
  },
  {
   "cell_type": "markdown",
   "metadata": {},
   "source": [
    "As with graph objects in plotly, the number of bins is set using the `nbins=` argument."
   ]
  },
  {
   "cell_type": "code",
   "execution_count": null,
   "metadata": {},
   "outputs": [],
   "source": [
    "px.histogram(\n",
    "    df,\n",
    "    x='Feature1', \n",
    "    nbins=10\n",
    ")"
   ]
  },
  {
   "cell_type": "markdown",
   "metadata": {},
   "source": [
    "The `cumulative=` argument creates a cumulative histogram.  Below, we express this as a percent."
   ]
  },
  {
   "cell_type": "code",
   "execution_count": null,
   "metadata": {},
   "outputs": [],
   "source": [
    "px.histogram(\n",
    "    df,\n",
    "    x='Feature1',\n",
    "    cumulative=True,\n",
    "    histnorm='percent'\n",
    ")"
   ]
  }
 ],
 "metadata": {
  "kernelspec": {
   "display_name": "Python 3 (ipykernel)",
   "language": "python",
   "name": "python3"
  },
  "language_info": {
   "codemirror_mode": {
    "name": "ipython",
    "version": 3
   },
   "file_extension": ".py",
   "mimetype": "text/x-python",
   "name": "python",
   "nbconvert_exporter": "python",
   "pygments_lexer": "ipython3",
   "version": "3.9.7"
  }
 },
 "nbformat": 4,
 "nbformat_minor": 4
}
