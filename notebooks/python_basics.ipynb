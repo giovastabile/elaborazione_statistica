{
 "cells": [
  {
   "cell_type": "markdown",
   "metadata": {
    "id": "JbVT11Y8CbAu"
   },
   "source": [
    "# Welcome"
   ]
  },
  {
   "cell_type": "markdown",
   "metadata": {
    "id": "kw1B2R_WCU7X"
   },
   "source": [
    "Benvenuti al primo lavoro pratico della settimana! In questa pratica, impareremo a conoscere il linguaggio di programmazione Python, nonché NumPy e Matplotlib, due strumenti fondamentali per la scienza dei dati e l'apprendimento automatico in Python."
   ]
  },
  {
   "cell_type": "markdown",
   "metadata": {
    "id": "YV4sYCn8EPwb"
   },
   "source": [
    "# Notebooks"
   ]
  },
  {
   "cell_type": "markdown",
   "metadata": {
    "id": "2HuuwOcQEYQI"
   },
   "source": [
    "Vedremo come usare Jupyter notebooks e Google colab per facilitare analisi dati. Notebooks sono un mix di codice eseguibile e contenuto aggiuntivo (HTML, immagini, equazioni). Colab permette di eseguire notebooks in cloud gratuitamente nessuna nessuna installazione."
   ]
  },
  {
   "cell_type": "markdown",
   "metadata": {
    "id": "t0XmMkPuGGOs"
   },
   "source": [
    "Questa pagina non è statica ma è un ambiente interattivo chiamato notebook, che vi permette di scrivere ed eseguire codice. Per esempio, ecco una cella di codice che memorizza il risultato di un calcolo (il numero di secondi in un giorno) in una variabile e ne stampa il valore:"
   ]
  },
  {
   "cell_type": "code",
   "execution_count": null,
   "metadata": {
    "colab": {
     "base_uri": "https://localhost:8080/",
     "height": 34
    },
    "id": "qeGAvLq1ALJ4",
    "outputId": "da0a439d-bbbe-4bca-ae88-9681dc307b33"
   },
   "outputs": [],
   "source": [
    "seconds_in_a_day = 24 * 60 * 60\n",
    "seconds_in_a_day"
   ]
  },
  {
   "cell_type": "markdown",
   "metadata": {
    "id": "njoPs3q1G75-"
   },
   "source": [
    "Fare clic sul pulsante \"play\" per eseguire la cella. Dovresti essere in grado di vedere il risultato. In alternativa, puoi anche eseguire la cella premendo Ctrl + Invio se sei su Windows / Linux o Comando + Invio se sei su un Mac."
   ]
  },
  {
   "cell_type": "markdown",
   "metadata": {
    "id": "NvdYaBgHHdbw"
   },
   "source": [
    "Le variabili definite in una cella possono essere successivamente utilizzate in altre celle:"
   ]
  },
  {
   "cell_type": "code",
   "execution_count": null,
   "metadata": {
    "colab": {
     "base_uri": "https://localhost:8080/",
     "height": 34
    },
    "id": "s1kp5Zv0JBSx",
    "outputId": "5c3d203f-046d-4555-d398-36e91dbe685c"
   },
   "outputs": [],
   "source": [
    "seconds_in_a_week = 7 * seconds_in_a_day\n",
    "seconds_in_a_week"
   ]
  },
  {
   "cell_type": "markdown",
   "metadata": {
    "id": "uALfY4q1JFQ0"
   },
   "source": [
    "Si noti che l'ordine di esecuzione è importante. Ad esempio, se non eseguiamo la cella memorizzando *seconds_in_a_day* in anticipo, la cella sopra genererà un errore, poiché dipende da questa variabile. Per assicurarti di eseguire tutte le celle nell'ordine corretto, puoi anche fare clic su \"Cell\" nel menu di primo livello, quindi su \"Run All\"."
   ]
  },
  {
   "cell_type": "markdown",
   "metadata": {
    "id": "HvXs_KaoRWQ9"
   },
   "source": [
    "**Esercizio.** Aggiungi una cella sotto questa cella: fai clic su questa cella, quindi fai clic su \"+ Codice\". Nella nuova cella, calcola il numero di secondi in un anno riutilizzando la variabile *seconds_in_a_day*. Esegui la nuova cella."
   ]
  },
  {
   "cell_type": "markdown",
   "metadata": {
    "id": "qyLSwlxnJqXX"
   },
   "source": [
    "# Python"
   ]
  },
  {
   "cell_type": "markdown",
   "metadata": {
    "id": "3ltwm91eJyQM"
   },
   "source": [
    "Python è uno dei linguaggi di programmazione più popolari per l'analisi dati, sia nel mondo accademico che nell'industria. Pertanto, è essenziale imparare questa lingua per chiunque sia interessato all'analisi dati. In questa sezione esamineremo le basi di Python."
   ]
  },
  {
   "cell_type": "markdown",
   "metadata": {
    "id": "3EKvP6jiMZ9H"
   },
   "source": [
    "## Operazioni Aritimiche"
   ]
  },
  {
   "cell_type": "markdown",
   "metadata": {
    "id": "DDjs0-7YQ80h"
   },
   "source": [
    "Python supporta i consueti operatori aritmetici: + (addizione), * (moltiplicazione), / (divisione), ** (potenza), // (divisione intera)."
   ]
  },
  {
   "cell_type": "markdown",
   "metadata": {
    "id": "UhcbBQUiStHG"
   },
   "source": [
    "## Liste"
   ]
  },
  {
   "cell_type": "markdown",
   "metadata": {
    "id": "RkPn1IjNTCxA"
   },
   "source": [
    "Le liste sono un tipo di contenitore per sequenze ordinate di elementi. Gli elenchi possono essere inizializzati vuoti"
   ]
  },
  {
   "cell_type": "code",
   "execution_count": null,
   "metadata": {
    "id": "OrnV1ySAPtHp"
   },
   "outputs": [],
   "source": [
    "my_list = []"
   ]
  },
  {
   "cell_type": "markdown",
   "metadata": {
    "id": "OwRqyYI9XnPK"
   },
   "source": [
    "o con valari iniziali"
   ]
  },
  {
   "cell_type": "code",
   "execution_count": null,
   "metadata": {
    "id": "Uq5YTJ1JXpOX"
   },
   "outputs": [],
   "source": [
    "my_list = [1, 2, 3]"
   ]
  },
  {
   "cell_type": "markdown",
   "metadata": {
    "id": "Hk2WmojJXyyz"
   },
   "source": [
    "Gli elenchi hanno una dimensione dinamica e gli elementi possono essere aggiunti (appended) ad essi"
   ]
  },
  {
   "cell_type": "code",
   "execution_count": null,
   "metadata": {
    "colab": {
     "base_uri": "https://localhost:8080/",
     "height": 34
    },
    "id": "QFTNqiYiXxAh",
    "outputId": "720d3340-7df7-49b8-c920-964d2e350af5"
   },
   "outputs": [],
   "source": [
    "my_list.append(4)\n",
    "my_list"
   ]
  },
  {
   "cell_type": "markdown",
   "metadata": {
    "id": "IUnJuqQ2Yhzw"
   },
   "source": [
    "Possiamo accedere ai singoli elementi di una lista (l'indicizzazione parte da 0)"
   ]
  },
  {
   "cell_type": "code",
   "execution_count": null,
   "metadata": {
    "colab": {
     "base_uri": "https://localhost:8080/",
     "height": 34
    },
    "id": "pyFxyZPVYpG_",
    "outputId": "7efb0bc1-25fb-4849-8d3a-cfa62b94a175"
   },
   "outputs": [],
   "source": [
    "my_list[2]"
   ]
  },
  {
   "cell_type": "markdown",
   "metadata": {
    "id": "hPMrIDYsdgMP"
   },
   "source": [
    "Possiamo accedere alle \"slices\" di una lista usando `my_list[i:j]` dove `i` è l'inizio dello slice (di nuovo, l'indicizzazione inizia da 0) e `j` la fine della slice. Per esempio:"
   ]
  },
  {
   "cell_type": "code",
   "execution_count": null,
   "metadata": {
    "colab": {
     "base_uri": "https://localhost:8080/",
     "height": 34
    },
    "id": "Ichf9p0gd7tJ",
    "outputId": "5f4ec085-431e-4e16-aab1-8708f2c931d4"
   },
   "outputs": [],
   "source": [
    "my_list[1:3]"
   ]
  },
  {
   "cell_type": "markdown",
   "metadata": {
    "id": "KMbzH4tzQ9rI"
   },
   "source": [
    "L'omissione del secondo indice significa che la slice dovrebbe essere eseguita fino alla fine dell'elenco"
   ]
  },
  {
   "cell_type": "code",
   "execution_count": null,
   "metadata": {
    "colab": {
     "base_uri": "https://localhost:8080/",
     "height": 34
    },
    "id": "O7wCthKnREKV",
    "outputId": "5a04ea59-7a54-4b09-a8ee-3cd6171e8c7a"
   },
   "outputs": [],
   "source": [
    "my_list[1:]"
   ]
  },
  {
   "cell_type": "markdown",
   "metadata": {
    "id": "C5Aeu7PUebrK"
   },
   "source": [
    "Possiamo controllare se è un elemento è nella lista con `in`"
   ]
  },
  {
   "cell_type": "code",
   "execution_count": null,
   "metadata": {
    "colab": {
     "base_uri": "https://localhost:8080/",
     "height": 34
    },
    "id": "a_P5NCi-efvb",
    "outputId": "5012122e-f02c-4474-ec51-6ef8519e5733"
   },
   "outputs": [],
   "source": [
    "5 in my_list"
   ]
  },
  {
   "cell_type": "markdown",
   "metadata": {
    "id": "LypIsP5gkl10"
   },
   "source": [
    "La lunghezza di una lista può essere ottenuta usando la funzione `len`"
   ]
  },
  {
   "cell_type": "code",
   "execution_count": null,
   "metadata": {
    "colab": {
     "base_uri": "https://localhost:8080/",
     "height": 34
    },
    "id": "ac0FMsaKkrWc",
    "outputId": "0a7418d2-67a1-419c-e12b-e6ffb3b4b66d"
   },
   "outputs": [],
   "source": [
    "len(my_list)"
   ]
  },
  {
   "cell_type": "markdown",
   "metadata": {
    "id": "1c3RLStf7G2I"
   },
   "source": [
    "## Stringhe"
   ]
  },
  {
   "cell_type": "markdown",
   "metadata": {
    "id": "Jm6hZhgz7KhI"
   },
   "source": [
    "Le stringhe vengono utilizzate per memorizzare il testo. Possono essere delimitati utilizzando virgolette singole o virgolette doppie"
   ]
  },
  {
   "cell_type": "code",
   "execution_count": null,
   "metadata": {
    "id": "cCma6Oj_7T8n"
   },
   "outputs": [],
   "source": [
    "string1 = \"some text\"\n",
    "string2 = 'some other text'"
   ]
  },
  {
   "cell_type": "markdown",
   "metadata": {
    "id": "Irr4xuWu7Znu"
   },
   "source": [
    "Le stringhe si comportano in modo simile alle liste. Pertanto, possiamo accedere ai singoli elementi esattamente allo stesso modo"
   ]
  },
  {
   "cell_type": "code",
   "execution_count": null,
   "metadata": {
    "colab": {
     "base_uri": "https://localhost:8080/",
     "height": 35
    },
    "id": "26_POhLO7iM3",
    "outputId": "fa06d3b9-c683-4b05-bedc-36bc43f57bd4"
   },
   "outputs": [],
   "source": [
    "string1[3]"
   ]
  },
  {
   "cell_type": "markdown",
   "metadata": {
    "id": "oA_UD0JV7oPw"
   },
   "source": [
    "e ugualmente per le slices"
   ]
  },
  {
   "cell_type": "code",
   "execution_count": null,
   "metadata": {
    "colab": {
     "base_uri": "https://localhost:8080/",
     "height": 35
    },
    "id": "dcZFcLqQ7qCe",
    "outputId": "aba6c437-ade3-49da-9e6a-9383eab01fa9"
   },
   "outputs": [],
   "source": [
    "string1[5:]"
   ]
  },
  {
   "cell_type": "markdown",
   "metadata": {
    "id": "hOQ_CIiu76YG"
   },
   "source": [
    "La concatenazione di stringhe viene eseguita utilizzando l'operatore `+`"
   ]
  },
  {
   "cell_type": "code",
   "execution_count": null,
   "metadata": {
    "colab": {
     "base_uri": "https://localhost:8080/",
     "height": 35
    },
    "id": "mxqNMKCY79_W",
    "outputId": "e5695c9e-0703-49b3-9608-b57ca8375ba9"
   },
   "outputs": [],
   "source": [
    "string1 + \" \" + string2"
   ]
  },
  {
   "cell_type": "markdown",
   "metadata": {
    "id": "7Lox2GZCMdIB"
   },
   "source": [
    "## Condizionali"
   ]
  },
  {
   "cell_type": "markdown",
   "metadata": {
    "id": "-gXEAWFZfDTT"
   },
   "source": [
    "Come indica il loro nome, i condizionali sono un modo per eseguire codice a seconda che una condizione sia vera o falsa. Come in altri linguaggi, Python supporta `if` e `else` ma `else if` è contratto in `elif`, come dimostra l'esempio seguente."
   ]
  },
  {
   "cell_type": "code",
   "execution_count": null,
   "metadata": {
    "colab": {
     "base_uri": "https://localhost:8080/",
     "height": 34
    },
    "id": "xC_DMZjofoYZ",
    "outputId": "e86016aa-0ebd-4e0f-e559-326f4b2ce644"
   },
   "outputs": [],
   "source": [
    "my_variable = 5\n",
    "if my_variable < 0:\n",
    "  print(\"negative\")\n",
    "elif my_variable == 0:\n",
    "  print(\"null\")\n",
    "else: # my_variable > 0\n",
    "  print(\"positive\")"
   ]
  },
  {
   "cell_type": "markdown",
   "metadata": {
    "id": "Ag0SUokSf9jl"
   },
   "source": [
    "Here `<` and `>` are the strict `less` and `greater than` operators, while `==` is the equality operator (not to be confused with `=`, the variable assignment operator). The operators `<=` and `>=` can be used for less (resp. greater) than or equal comparisons."
   ]
  },
  {
   "cell_type": "markdown",
   "metadata": {
    "id": "qTkQ2F_jy8wz"
   },
   "source": [
    "Contrariamente ad altri linguaggi, i blocchi di codice sono delimitati mediante indentazione. Qui utilizziamo il rientro a 2 spazi, ma molti programmatori usano anche il rientro a 4 spazi. Chiunque va bene purché tu sia coerente in tutto il tuo codice."
   ]
  },
  {
   "cell_type": "markdown",
   "metadata": {
    "id": "clWaFCzBMfkv"
   },
   "source": [
    "## Loops"
   ]
  },
  {
   "cell_type": "markdown",
   "metadata": {
    "id": "_A5doqhTivWe"
   },
   "source": [
    "I loop sono un modo per eseguire un blocco di codice più volte. Esistono due tipi principali di loop: i loop while e i loop for."
   ]
  },
  {
   "cell_type": "markdown",
   "metadata": {
    "id": "YN8lwTxQkGEa"
   },
   "source": [
    "While loop"
   ]
  },
  {
   "cell_type": "code",
   "execution_count": null,
   "metadata": {
    "colab": {
     "base_uri": "https://localhost:8080/",
     "height": 85
    },
    "id": "7-QXGqgOjsr_",
    "outputId": "4a9bdffc-46ba-47ba-e60b-3ea01dcd2d65"
   },
   "outputs": [],
   "source": [
    "i = 0\n",
    "while i < len(my_list):\n",
    "  print(my_list[i])\n",
    "  i += 1 # equivalent to i = i + 1"
   ]
  },
  {
   "cell_type": "markdown",
   "metadata": {
    "id": "8mEI_ocfkSvZ"
   },
   "source": [
    "For loop"
   ]
  },
  {
   "cell_type": "code",
   "execution_count": null,
   "metadata": {
    "colab": {
     "base_uri": "https://localhost:8080/",
     "height": 85
    },
    "id": "2QObx5mckMcI",
    "outputId": "32c31a79-ef89-4e80-9e76-47540f839cb6"
   },
   "outputs": [],
   "source": [
    "for i in range(len(my_list)):\n",
    "  print(my_list[i])"
   ]
  },
  {
   "cell_type": "markdown",
   "metadata": {
    "id": "XO6qqppikZvm"
   },
   "source": [
    "Se l'obiettivo è semplicemente quello di scorrere un elenco, possiamo farlo direttamente come segue"
   ]
  },
  {
   "cell_type": "code",
   "execution_count": null,
   "metadata": {
    "colab": {
     "base_uri": "https://localhost:8080/",
     "height": 85
    },
    "id": "PjFKzN6zkeJ7",
    "outputId": "41f3a553-b629-4e52-ad98-7bbe55e0cced"
   },
   "outputs": [],
   "source": [
    "for element in my_list:\n",
    "  print(element)"
   ]
  },
  {
   "cell_type": "markdown",
   "metadata": {
    "id": "Cck4zwYrex02"
   },
   "source": [
    "## Funzioni"
   ]
  },
  {
   "cell_type": "markdown",
   "metadata": {
    "id": "n1PbIf_ohxFO"
   },
   "source": [
    "Per migliorare la leggibilità del codice, è comune separare il codice in diversi blocchi, responsabili dell'esecuzione di azioni precise: funzioni. Una funzione prende alcuni input e li elabora per restituire alcuni output."
   ]
  },
  {
   "cell_type": "code",
   "execution_count": null,
   "metadata": {
    "colab": {
     "base_uri": "https://localhost:8080/",
     "height": 34
    },
    "id": "cImA09gOhRmx",
    "outputId": "85834282-56d6-4c17-f188-433f46c50d21"
   },
   "outputs": [],
   "source": [
    "def square(x):\n",
    "  return x ** 2\n",
    "\n",
    "def multiply(a, b):\n",
    "  return a * b\n",
    "\n",
    "# Functions can be composed.\n",
    "square(multiply(3, 2))"
   ]
  },
  {
   "cell_type": "markdown",
   "metadata": {
    "id": "75-5SOk9iYSt"
   },
   "source": [
    "Per migliorare la leggibilità del codice, a volte è utile nominare esplicitamente gli argomenti"
   ]
  },
  {
   "cell_type": "code",
   "execution_count": null,
   "metadata": {
    "colab": {
     "base_uri": "https://localhost:8080/",
     "height": 34
    },
    "id": "wkIUuZHhidI0",
    "outputId": "acb68380-db78-491c-ce27-8a4664f78ce5"
   },
   "outputs": [],
   "source": [
    "square(multiply(a=3, b=2))"
   ]
  },
  {
   "cell_type": "markdown",
   "metadata": {},
   "source": [
    "## Esercizi"
   ]
  },
  {
   "cell_type": "markdown",
   "metadata": {
    "id": "Y3so0ceoakIw"
   },
   "source": [
    "**Exercise 1.** Usando un for loop calcola la norma [Euclidean norm](https://en.wikipedia.org/wiki/Norm_(mathematics)#Euclidean_norm) di un vettore, rappresentato da un lista."
   ]
  },
  {
   "cell_type": "code",
   "execution_count": null,
   "metadata": {
    "colab": {
     "base_uri": "https://localhost:8080/",
     "height": 34
    },
    "id": "-IH-BD41bI1u",
    "outputId": "f45bf668-d55b-494d-ecd7-2f421cbacf15"
   },
   "outputs": [],
   "source": [
    "def euclidean_norm(vector):\n",
    "  # Write your function here\n",
    "  return\n",
    "\n",
    "import numpy as np\n",
    "my_vector = [0.5, -1.2, 3.3, 4.5]\n",
    "# The result should be roughly 5.729746940310715\n",
    "euclidean_norm(my_vector)"
   ]
  },
  {
   "cell_type": "markdown",
   "metadata": {
    "id": "SEXIh_e9cW3S"
   },
   "source": [
    "**Exercise 2.** Usando un for loop e un condizionale, scrive una funzione che ritorna il massimo in un vettore."
   ]
  },
  {
   "cell_type": "code",
   "execution_count": null,
   "metadata": {
    "id": "zd9ntMq0cb2e"
   },
   "outputs": [],
   "source": [
    "def vector_maximum(vector):\n",
    "  # Write your function here\n",
    "  return"
   ]
  },
  {
   "cell_type": "markdown",
   "metadata": {
    "id": "jDxjvtEEM1vg"
   },
   "source": [
    "## Andare oltre"
   ]
  },
  {
   "cell_type": "markdown",
   "metadata": {
    "id": "wRkmvzf-PdEp"
   },
   "source": [
    "Chiaramente, è impossibile coprire tutte le caratteristiche linguistiche in questa breve introduzione. Per andare oltre, ti consigliamo le seguenti risorse:"
   ]
  },
  {
   "cell_type": "markdown",
   "metadata": {
    "id": "n8nbPoWclRlH"
   },
   "source": [
    "\n",
    "\n",
    "*   List of Python [tutorials](https://wiki.python.org/moin/BeginnersGuide/Programmers)\n",
    "* Four-hour [course](https://www.youtube.com/watch?v=rfscVS0vtbw) on Youtube\n",
    "\n"
   ]
  },
  {
   "cell_type": "markdown",
   "metadata": {
    "id": "6X4WJo3iM6m9"
   },
   "source": [
    "# NumPy"
   ]
  },
  {
   "cell_type": "markdown",
   "metadata": {
    "id": "_H3bNbLloXCY"
   },
   "source": [
    "NumPy è una libreria popolare per archiviare array di numeri ed eseguire calcoli su di essi. Non solo questo consente di scrivere codice spesso più conciso, ma rende anche il codice più veloce, poiché la maggior parte delle routine NumPy sono implementate in C per la velocità."
   ]
  },
  {
   "cell_type": "markdown",
   "metadata": {
    "id": "M7tI3XLhqwSX"
   },
   "source": [
    "Per utilizzare NumPy nel tuo programma, devi importarlo come segue"
   ]
  },
  {
   "cell_type": "code",
   "execution_count": null,
   "metadata": {
    "id": "phSPPyfyq2gX"
   },
   "outputs": [],
   "source": [
    "import numpy as np"
   ]
  },
  {
   "cell_type": "markdown",
   "metadata": {
    "id": "9secCfFLNHEE"
   },
   "source": [
    "## Array creation\n",
    "\n"
   ]
  },
  {
   "cell_type": "markdown",
   "metadata": {
    "id": "LSS2wEnkq97n"
   },
   "source": [
    "Gli array NumPy possono essere creati da liste Python"
   ]
  },
  {
   "cell_type": "code",
   "execution_count": null,
   "metadata": {
    "colab": {
     "base_uri": "https://localhost:8080/",
     "height": 34
    },
    "id": "Hfeg286yrLvJ",
    "outputId": "f498bafc-0373-4258-f479-e27716b193c1"
   },
   "outputs": [],
   "source": [
    "my_array = np.array([1, 2, 3])\n",
    "my_array"
   ]
  },
  {
   "cell_type": "markdown",
   "metadata": {
    "id": "Sy2EvrxFriAG"
   },
   "source": [
    "NumPy supporta array di dimensioni arbitrarie. Ad esempio, possiamo creare array bidimensionali (ad esempio per memorizzare una matrice) come segue"
   ]
  },
  {
   "cell_type": "code",
   "execution_count": null,
   "metadata": {
    "colab": {
     "base_uri": "https://localhost:8080/",
     "height": 51
    },
    "id": "wM-GYVMsrzNs",
    "outputId": "3d524d20-cf2c-4d3c-ba08-4552be3a46d8"
   },
   "outputs": [],
   "source": [
    "my_2d_array = np.array([[1, 2, 3], [4, 5, 6]])\n",
    "my_2d_array"
   ]
  },
  {
   "cell_type": "markdown",
   "metadata": {
    "id": "-kZMzYsAsVAc"
   },
   "source": [
    "Possiamo accedere ai singoli elementi di un array 2d utilizzando due indici"
   ]
  },
  {
   "cell_type": "code",
   "execution_count": null,
   "metadata": {
    "colab": {
     "base_uri": "https://localhost:8080/",
     "height": 34
    },
    "id": "4q8X86BbscPd",
    "outputId": "3cefe32a-690a-4744-fad9-9c3edd763cd6"
   },
   "outputs": [],
   "source": [
    "my_2d_array[1, 2]"
   ]
  },
  {
   "cell_type": "markdown",
   "metadata": {
    "id": "OfVIKyxkTh0p"
   },
   "source": [
    "Possiamo anche accedere alle righe"
   ]
  },
  {
   "cell_type": "code",
   "execution_count": null,
   "metadata": {
    "colab": {
     "base_uri": "https://localhost:8080/",
     "height": 34
    },
    "id": "CrKnDAtyTlYe",
    "outputId": "14060c28-8ee7-48f5-f0ca-bdcff12cc421"
   },
   "outputs": [],
   "source": [
    "my_2d_array[1]"
   ]
  },
  {
   "cell_type": "markdown",
   "metadata": {
    "id": "hskLBCp9ToCG"
   },
   "source": [
    "e colonne"
   ]
  },
  {
   "cell_type": "code",
   "execution_count": null,
   "metadata": {
    "colab": {
     "base_uri": "https://localhost:8080/",
     "height": 34
    },
    "id": "MOOFsLHhTozX",
    "outputId": "8802a59a-0812-40a4-f930-ab2a3302bf46"
   },
   "outputs": [],
   "source": [
    "my_2d_array[:, 2]"
   ]
  },
  {
   "cell_type": "markdown",
   "metadata": {
    "id": "keWK_5PHr9Q2"
   },
   "source": [
    "Gli array hanno un attributo `shape`"
   ]
  },
  {
   "cell_type": "code",
   "execution_count": null,
   "metadata": {
    "colab": {
     "base_uri": "https://localhost:8080/",
     "height": 51
    },
    "id": "5QIo7l1Yr8m7",
    "outputId": "357d4218-541d-4c7f-8bcf-b3f4523b1fa3"
   },
   "outputs": [],
   "source": [
    "print(my_array.shape)\n",
    "print(my_2d_array.shape)"
   ]
  },
  {
   "cell_type": "markdown",
   "metadata": {
    "id": "LmX0EDWVsoDY"
   },
   "source": [
    "Contrariamente alle liste Python, gli array NumPy devono avere un tipo e tutti gli elementi dell'array devono avere lo stesso tipo."
   ]
  },
  {
   "cell_type": "code",
   "execution_count": null,
   "metadata": {
    "colab": {
     "base_uri": "https://localhost:8080/",
     "height": 34
    },
    "id": "FZjOowkls57o",
    "outputId": "abb3edab-a903-40c8-f88a-1125fc6d4dbf"
   },
   "outputs": [],
   "source": [
    "my_array.dtype"
   ]
  },
  {
   "cell_type": "markdown",
   "metadata": {
    "id": "i5AvLdf7tGnZ"
   },
   "source": [
    "I tipi principali sono `int32` (interi a 32 bit), `int64` (interi a 64 bit), `float32` (valori reali a 32 bit) e `float64` (valori reali a 64 bit)."
   ]
  },
  {
   "cell_type": "markdown",
   "metadata": {
    "id": "w8ym2qZCt9Nm"
   },
   "source": [
    "Il `dtype` può essere specificato durante la creazione dell'array"
   ]
  },
  {
   "cell_type": "code",
   "execution_count": null,
   "metadata": {
    "colab": {
     "base_uri": "https://localhost:8080/",
     "height": 34
    },
    "id": "gXpM_FqruCVv",
    "outputId": "20d8b981-56ed-4458-d9d8-2f9fb5fb2b58"
   },
   "outputs": [],
   "source": [
    "my_array = np.array([1, 2, 3], dtype=np.float64)\n",
    "my_array.dtype"
   ]
  },
  {
   "cell_type": "markdown",
   "metadata": {
    "id": "WueaRIONuTdS"
   },
   "source": [
    "Possiamo creare array di tutti zeri usando"
   ]
  },
  {
   "cell_type": "code",
   "execution_count": null,
   "metadata": {
    "colab": {
     "base_uri": "https://localhost:8080/",
     "height": 51
    },
    "id": "jbD8N1UauK8r",
    "outputId": "4a352f81-f0e8-4bc1-a651-760436c7d213"
   },
   "outputs": [],
   "source": [
    "zero_array = np.zeros((2, 3))\n",
    "zero_array"
   ]
  },
  {
   "cell_type": "markdown",
   "metadata": {
    "id": "vn5go6qoudo4"
   },
   "source": [
    "e allo stesso modo per tutti quelli che usano `uno` invece di `zero`."
   ]
  },
  {
   "cell_type": "markdown",
   "metadata": {
    "id": "1kCRlhLJuvZ6"
   },
   "source": [
    "Possiamo creare una gamma di valori utilizzando"
   ]
  },
  {
   "cell_type": "code",
   "execution_count": null,
   "metadata": {
    "colab": {
     "base_uri": "https://localhost:8080/",
     "height": 34
    },
    "id": "EcQXDeEmuxpO",
    "outputId": "5a6fac79-26e3-4012-d5f4-82844372dc58"
   },
   "outputs": [],
   "source": [
    "np.arange(5)"
   ]
  },
  {
   "cell_type": "markdown",
   "metadata": {
    "id": "ZvJECk6Iu3uF"
   },
   "source": [
    "o specificando il punto di partenza"
   ]
  },
  {
   "cell_type": "code",
   "execution_count": null,
   "metadata": {
    "colab": {
     "base_uri": "https://localhost:8080/",
     "height": 34
    },
    "id": "Pk3UzL3du_f8",
    "outputId": "1fd3f3fa-63ba-4a26-9274-011574bebbd2"
   },
   "outputs": [],
   "source": [
    "np.arange(3, 5)"
   ]
  },
  {
   "cell_type": "markdown",
   "metadata": {
    "id": "f1JtqFSivJKG"
   },
   "source": [
    "Un'altra routine utile è `linspace` per creare valori spaziati linearmente in un intervallo. Ad esempio, per creare 10 valori in `[0, 1]`, possiamo usare"
   ]
  },
  {
   "cell_type": "code",
   "execution_count": null,
   "metadata": {
    "colab": {
     "base_uri": "https://localhost:8080/",
     "height": 51
    },
    "id": "udHHjGAHvOQM",
    "outputId": "473cec27-ac56-4dc9-984a-c1e340255a51"
   },
   "outputs": [],
   "source": [
    "np.linspace(0, 1, 10)"
   ]
  },
  {
   "cell_type": "markdown",
   "metadata": {
    "id": "WbcxAKobvgUT"
   },
   "source": [
    "Un'altra operazione importante è `reshape`, per cambiare la forma di un array"
   ]
  },
  {
   "cell_type": "code",
   "execution_count": null,
   "metadata": {
    "colab": {
     "base_uri": "https://localhost:8080/",
     "height": 68
    },
    "id": "4FPzTuDlvlLO",
    "outputId": "338648ec-11e3-436f-d0e4-6745f9cb30d3"
   },
   "outputs": [],
   "source": [
    "my_array = np.array([1, 2, 3, 4, 5, 6])\n",
    "my_array.reshape(3, 2)"
   ]
  },
  {
   "cell_type": "markdown",
   "metadata": {
    "id": "G-QR80_g3N9Y"
   },
   "source": [
    "Gioca con queste operazioni e assicurati di capirle bene."
   ]
  },
  {
   "cell_type": "markdown",
   "metadata": {
    "id": "f9B0iCBlmfeY"
   },
   "source": [
    "## Basic operations"
   ]
  },
  {
   "cell_type": "markdown",
   "metadata": {
    "id": "elQGgkqDxKLV"
   },
   "source": [
    "In NumPy, esprimiamo i calcoli direttamente sugli array. Questo rende il codice molto più conciso."
   ]
  },
  {
   "cell_type": "markdown",
   "metadata": {
    "id": "hkCU1T8ixghX"
   },
   "source": [
    "Le operazioni aritmetiche possono essere eseguite direttamente sugli array. Ad esempio, supponendo che due array abbiano una forma compatibile, possiamo aggiungerli come segue"
   ]
  },
  {
   "cell_type": "code",
   "execution_count": null,
   "metadata": {
    "colab": {
     "base_uri": "https://localhost:8080/",
     "height": 34
    },
    "id": "4AoiRq42x5mI",
    "outputId": "d9706493-95f8-43d5-af90-21a53c13cac5"
   },
   "outputs": [],
   "source": [
    "array_a = np.array([1, 2, 3])\n",
    "array_b = np.array([4, 5, 6])\n",
    "array_a + array_b"
   ]
  },
  {
   "cell_type": "markdown",
   "metadata": {
    "id": "SyPqME2EyD4x"
   },
   "source": [
    "Confronta questo con il calcolo equivalente usando un ciclo for"
   ]
  },
  {
   "cell_type": "code",
   "execution_count": null,
   "metadata": {
    "colab": {
     "base_uri": "https://localhost:8080/",
     "height": 34
    },
    "id": "HxRFA_U2yfI-",
    "outputId": "cbd77fed-8b67-4119-aeea-7a71d92b63b6"
   },
   "outputs": [],
   "source": [
    "array_out = np.zeros_like(array_a)\n",
    "for i in range(len(array_a)):\n",
    "  array_out[i] = array_a[i] + array_b[i]\n",
    "array_out"
   ]
  },
  {
   "cell_type": "markdown",
   "metadata": {
    "id": "i2a-apX-zlPN"
   },
   "source": [
    "Non solo questo codice è più dettagliato, ma funzionerà anche molto più lentamente."
   ]
  },
  {
   "cell_type": "markdown",
   "metadata": {
    "id": "Qdn8MwpR0wX_"
   },
   "source": [
    "In NumPy, le funzioni che operano sugli array in base agli elementi sono chiamate [funzioni universali](https://numpy.org/doc/stable/reference/ufuncs.html). Ad esempio, questo è il caso di `np.sin`"
   ]
  },
  {
   "cell_type": "code",
   "execution_count": null,
   "metadata": {
    "colab": {
     "base_uri": "https://localhost:8080/",
     "height": 34
    },
    "id": "JoanjiMu1BH5",
    "outputId": "e6b8be44-7e66-4a3f-eb57-c767c7f8b2f3"
   },
   "outputs": [],
   "source": [
    "np.sin(array_a)"
   ]
  },
  {
   "cell_type": "markdown",
   "metadata": {
    "id": "jHljrPXg5h8W"
   },
   "source": [
    "Il prodotto interno vettoriale può essere eseguito utilizzando `np.dot`"
   ]
  },
  {
   "cell_type": "code",
   "execution_count": null,
   "metadata": {
    "colab": {
     "base_uri": "https://localhost:8080/",
     "height": 34
    },
    "id": "TphR8oIx5ob9",
    "outputId": "a84a8966-6b99-4a48-b422-caea4dd0ffc6"
   },
   "outputs": [],
   "source": [
    "np.dot(array_a, array_b)"
   ]
  },
  {
   "cell_type": "markdown",
   "metadata": {
    "id": "lHInOiSW50OR"
   },
   "source": [
    "Quando i due argomenti di `np.dot` sono entrambi array 2d, `np.dot` diventa una moltiplicazione di matrici"
   ]
  },
  {
   "cell_type": "code",
   "execution_count": null,
   "metadata": {
    "colab": {
     "base_uri": "https://localhost:8080/",
     "height": 102
    },
    "id": "QRbpbhPP6Up0",
    "outputId": "d020a4d4-2532-495f-fd28-766fc92b3318"
   },
   "outputs": [],
   "source": [
    "array_A = np.random.rand(5, 3)\n",
    "array_B = np.random.randn(3, 4)\n",
    "np.dot(array_A, array_B)"
   ]
  },
  {
   "cell_type": "markdown",
   "metadata": {
    "id": "odVawD9m6gwv"
   },
   "source": [
    "La trasposizione della matrice può essere eseguita usando `.transpose()` o `.T` in breve"
   ]
  },
  {
   "cell_type": "code",
   "execution_count": null,
   "metadata": {
    "colab": {
     "base_uri": "https://localhost:8080/",
     "height": 68
    },
    "id": "gvPe_JAO6mvF",
    "outputId": "4952000d-c255-4cd0-8b12-51bcb59ba53b"
   },
   "outputs": [],
   "source": [
    "array_A.T"
   ]
  },
  {
   "cell_type": "markdown",
   "metadata": {
    "id": "JlWt3oFnE_E-"
   },
   "source": [
    "## Slicing and masking"
   ]
  },
  {
   "cell_type": "markdown",
   "metadata": {
    "id": "e4aKKe7bFA65"
   },
   "source": [
    "Come gli elenchi Python, gli array NumPy supportano lo slicing"
   ]
  },
  {
   "cell_type": "code",
   "execution_count": null,
   "metadata": {
    "colab": {
     "base_uri": "https://localhost:8080/",
     "height": 34
    },
    "id": "0kPhv2xcF1TP",
    "outputId": "a7315cac-0495-44da-e497-63aa677b8d47"
   },
   "outputs": [],
   "source": [
    "np.arange(10)[5:]"
   ]
  },
  {
   "cell_type": "markdown",
   "metadata": {
    "id": "ITu2Wy4-GB2G"
   },
   "source": [
    "Possiamo anche selezionare solo alcuni elementi dall'array"
   ]
  },
  {
   "cell_type": "code",
   "execution_count": null,
   "metadata": {
    "colab": {
     "base_uri": "https://localhost:8080/",
     "height": 34
    },
    "id": "8tlZzTB6GEyw",
    "outputId": "a2918cd3-f33b-48de-cd18-a3a8b1fb2fab"
   },
   "outputs": [],
   "source": [
    "x = np.arange(10)\n",
    "mask = x >= 5\n",
    "x[mask]"
   ]
  },
  {
   "cell_type": "markdown",
   "metadata": {
    "id": "NlGForCimjBL"
   },
   "source": [
    "## Exercises"
   ]
  },
  {
   "cell_type": "markdown",
   "metadata": {
    "id": "Ur1UlSFPTu6O"
   },
   "source": [
    "**Esercizio 1.** Crea una matrice 3D di forme (2, 2, 2), contenente 8 valori. Accedi a singoli elementi e sezioni."
   ]
  },
  {
   "cell_type": "code",
   "execution_count": null,
   "metadata": {
    "id": "v1ed4-vLUWXQ"
   },
   "outputs": [],
   "source": []
  },
  {
   "cell_type": "markdown",
   "metadata": {
    "id": "wggUjpyRz7fb"
   },
   "source": [
    "**Esercizio 3.** Riscrivi la norma euclidea di un vettore (array 1d) usando NumPy (senza ciclo for)"
   ]
  },
  {
   "cell_type": "code",
   "execution_count": null,
   "metadata": {
    "id": "p5BLcHOD0Bhy"
   },
   "outputs": [],
   "source": [
    "def euclidean_norm_numpy(x):\n",
    "  return\n",
    "\n",
    "my_vector = np.array([0.5, -1.2, 3.3, 4.5])\n",
    "euclidean_norm_numpy(my_vector)"
   ]
  },
  {
   "cell_type": "markdown",
   "metadata": {
    "id": "01IteVJ60Il2"
   },
   "source": [
    "**Esercizio 4.** Scrivi una funzione che calcola le norme euclidee di una matrice (array 2d) in modo rigato. Suggerimento: usa l'argomento `axis` di [np.sum](https://numpy.org/doc/stable/reference/generated/numpy.sum.html)."
   ]
  },
  {
   "cell_type": "code",
   "execution_count": null,
   "metadata": {
    "id": "at5lWRNM0SVG"
   },
   "outputs": [],
   "source": [
    "def euclidean_norm_2d(X):\n",
    "  return\n",
    "\n",
    "my_matrix = np.array([[0.5, -1.2, 4.5],\n",
    "                      [-3.2, 1.9, 2.7]])\n",
    "# Should return an array of size 2.\n",
    "euclidean_norm_2d(my_matrix)"
   ]
  },
  {
   "cell_type": "markdown",
   "metadata": {
    "id": "yd1ZoByo436x"
   },
   "source": [
    "**Esercizio 5.** Calcola il valore medio delle caratteristiche nel [set di dati iris](https://scikit-learn.org/stable/modules/generated/sklearn.datasets.load_iris.html). Suggerimento: usa l'argomento `axis` su [np.mean](https://numpy.org/doc/stable/reference/generated/numpy.mean.html)."
   ]
  },
  {
   "cell_type": "code",
   "execution_count": null,
   "metadata": {
    "colab": {
     "base_uri": "https://localhost:8080/",
     "height": 34
    },
    "id": "fYFVobkP5JK6",
    "outputId": "91504ff7-ad59-4eb7-f940-cb2e068e1b6f"
   },
   "outputs": [],
   "source": [
    "from sklearn.datasets import load_iris\n",
    "X, y = load_iris(return_X_y=True)\n",
    "\n",
    "# Result should be an array of size 4."
   ]
  },
  {
   "cell_type": "markdown",
   "metadata": {
    "id": "1FDs9zX6mpoX"
   },
   "source": [
    "## Going further"
   ]
  },
  {
   "cell_type": "markdown",
   "metadata": {
    "id": "hFP61Iztmr9Q"
   },
   "source": [
    "* NumPy [reference](https://numpy.org/doc/stable/reference/)\n",
    "* SciPy [lectures](https://scipy-lectures.org/)\n",
    "*   One-hour [tutorial](https://www.youtube.com/watch?v=QUT1VHiLmmI) on Youtube \n",
    "\n"
   ]
  },
  {
   "cell_type": "markdown",
   "metadata": {
    "id": "7Jt6T3kJ8I2T"
   },
   "source": [
    "# Matplotlib"
   ]
  },
  {
   "cell_type": "markdown",
   "metadata": {
    "id": "kQX8TiEOALkQ"
   },
   "source": [
    "## Basic plots"
   ]
  },
  {
   "cell_type": "markdown",
   "metadata": {
    "id": "REYwc9Va8UTg"
   },
   "source": [
    "Matplotlib è una libreria di plottaggio per Python."
   ]
  },
  {
   "cell_type": "markdown",
   "metadata": {
    "id": "Eom7t-m6-Uzb"
   },
   "source": [
    "Iniziamo con un rudimentale esempio di trama."
   ]
  },
  {
   "cell_type": "code",
   "execution_count": null,
   "metadata": {
    "colab": {
     "base_uri": "https://localhost:8080/",
     "height": 295
    },
    "id": "g21e5Ncm927z",
    "outputId": "0bffba14-376e-4274-a33a-04cc8ce6cd64"
   },
   "outputs": [],
   "source": [
    "from matplotlib import pyplot as plt\n",
    "\n",
    "x_values = np.linspace(-3, 3, 100)\n",
    "\n",
    "plt.figure()\n",
    "plt.plot(x_values, np.sin(x_values), label=\"Sinusoid\")\n",
    "plt.xlabel(\"x\")\n",
    "plt.ylabel(\"sin(x)\")\n",
    "plt.title(\"Matplotlib example\")\n",
    "plt.legend(loc=\"upper left\")\n",
    "plt.show()"
   ]
  },
  {
   "cell_type": "markdown",
   "metadata": {
    "id": "ltvlLwXF-eAH"
   },
   "source": [
    "Continuiamo con un rudimentale esempio di grafico a dispersione. Questo esempio mostra campioni da [iris dataset](https://scikit-learn.org/stable/modules/generated/sklearn.datasets.load_iris.html) utilizzando le prime due funzionalità. I colori indicano l'appartenenza alla classe (ci sono 3 classi)."
   ]
  },
  {
   "cell_type": "code",
   "execution_count": null,
   "metadata": {
    "colab": {
     "base_uri": "https://localhost:8080/",
     "height": 268
    },
    "id": "sEzcJAmy-hbK",
    "outputId": "7d965d22-d0b6-41d5-9f80-f5d6a7d7f93f"
   },
   "outputs": [],
   "source": [
    "from sklearn.datasets import load_iris\n",
    "X, y = load_iris(return_X_y=True)\n",
    "\n",
    "X_class0 = X[y == 0]\n",
    "X_class1 = X[y == 1]\n",
    "X_class2 = X[y == 2]\n",
    "\n",
    "plt.figure()\n",
    "plt.scatter(X_class0[:, 0], X_class0[:, 1], label=\"Class 0\", color=\"C0\")\n",
    "plt.scatter(X_class1[:, 0], X_class1[:, 1], label=\"Class 1\", color=\"C1\")\n",
    "plt.scatter(X_class2[:, 0], X_class2[:, 1], label=\"Class 2\", color=\"C2\")\n",
    "plt.show()"
   ]
  },
  {
   "cell_type": "markdown",
   "metadata": {
    "id": "5vjln9qwAc3M"
   },
   "source": [
    "Vediamo che i campioni appartenenti alla classe 0 possono essere separati linearmente dal resto utilizzando solo le prime due caratteristiche."
   ]
  },
  {
   "cell_type": "markdown",
   "metadata": {
    "id": "dYM-oV1jD3RV"
   },
   "source": [
    "## Going further\n",
    "\n",
    "*  Official [tutorial](https://matplotlib.org/tutorials/introductory/pyplot.html)\n",
    "* [Tutorial](https://www.youtube.com/watch?v=qErBw-R2Ybk) on Youtube"
   ]
  }
 ],
 "metadata": {
  "colab": {
   "name": "Python basics",
   "provenance": []
  },
  "kernelspec": {
   "display_name": "Python 3 (ipykernel)",
   "language": "python",
   "name": "python3"
  },
  "language_info": {
   "codemirror_mode": {
    "name": "ipython",
    "version": 3
   },
   "file_extension": ".py",
   "mimetype": "text/x-python",
   "name": "python",
   "nbconvert_exporter": "python",
   "pygments_lexer": "ipython3",
   "version": "3.10.8"
  }
 },
 "nbformat": 4,
 "nbformat_minor": 1
}
