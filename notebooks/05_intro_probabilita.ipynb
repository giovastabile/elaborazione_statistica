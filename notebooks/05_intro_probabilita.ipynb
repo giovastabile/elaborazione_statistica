{
 "cells": [
  {
   "cell_type": "markdown",
   "metadata": {},
   "source": [
    "Apri questo notebook in [colab](https://colab.research.google.com/github/giovastabile/elaborazione_statistica/blob/main/notebooks/05_intro_probabilita.ipynb).\n",
    "\n",
    "Importo le librerie standard di python per analisi dati:\n",
    "    \n",
    "* [Numpy](https://numpy.org/) Per manipolazione matrice e vettori\n",
    "* [pandas](https://pandas.pydata.org/) Per analisi dati\n",
    "* [matplotlib](https://matplotlib.org/) Per plot\n"
   ]
  },
  {
   "cell_type": "code",
   "execution_count": null,
   "metadata": {},
   "outputs": [],
   "source": [
    "import numpy as np\n",
    "import pandas as pd\n",
    "import matplotlib.pyplot as plt\n",
    "from random import *\n",
    "%matplotlib inline"
   ]
  },
  {
   "cell_type": "markdown",
   "metadata": {},
   "source": [
    "Funzione per il calcolo della frequenza relativa ed assoluta"
   ]
  },
  {
   "cell_type": "code",
   "execution_count": null,
   "metadata": {},
   "outputs": [],
   "source": [
    "def rel_freq(x):\n",
    "    freqs = []\n",
    "    for value in set(x):\n",
    "        freqs.append([value, x.count(value)/len(x)])\n",
    "    return freqs\n",
    "def abs_freq(x):\n",
    "    freqs = []\n",
    "    for value in set(x):\n",
    "        freqs.append([value, x.count(value)])\n",
    "    return freqs\n"
   ]
  },
  {
   "cell_type": "markdown",
   "metadata": {},
   "source": [
    "Creo una lista di numeri random interi da 1 a 6 (esempio del dado)"
   ]
  },
  {
   "cell_type": "code",
   "execution_count": null,
   "metadata": {},
   "outputs": [],
   "source": [
    "data = np.random.randint(low=1,high=7,size=100000)"
   ]
  },
  {
   "cell_type": "markdown",
   "metadata": {},
   "source": [
    "Uso la funzione costruita per il calcolo della frequenza relativa"
   ]
  },
  {
   "cell_type": "code",
   "execution_count": null,
   "metadata": {},
   "outputs": [],
   "source": [
    "rel_freq(list(data))"
   ]
  },
  {
   "cell_type": "code",
   "execution_count": null,
   "metadata": {},
   "outputs": [],
   "source": [
    "abs_freq(list(data))"
   ]
  },
  {
   "cell_type": "code",
   "execution_count": null,
   "metadata": {},
   "outputs": [],
   "source": [
    "d = {'events':data}"
   ]
  },
  {
   "cell_type": "code",
   "execution_count": null,
   "metadata": {},
   "outputs": [],
   "source": [
    "df = pd.DataFrame(data=d)\n",
    "df.hist(bins=6)"
   ]
  },
  {
   "cell_type": "code",
   "execution_count": null,
   "metadata": {},
   "outputs": [],
   "source": [
    "rel_freq(list(df['events']))"
   ]
  },
  {
   "cell_type": "code",
   "execution_count": null,
   "metadata": {},
   "outputs": [],
   "source": [
    "print(1/6)"
   ]
  }
 ],
 "metadata": {
  "kernelspec": {
   "display_name": "base",
   "language": "python",
   "name": "python3"
  },
  "language_info": {
   "codemirror_mode": {
    "name": "ipython",
    "version": 3
   },
   "file_extension": ".py",
   "mimetype": "text/x-python",
   "name": "python",
   "nbconvert_exporter": "python",
   "pygments_lexer": "ipython3",
   "version": "3.9.7"
  },
  "vscode": {
   "interpreter": {
    "hash": "aa060171d12b532a6852e832374167464555761491671ce7e9befdbf4680c229"
   }
  }
 },
 "nbformat": 4,
 "nbformat_minor": 2
}
