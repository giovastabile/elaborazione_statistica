{
 "cells": [
  {
   "cell_type": "markdown",
   "metadata": {},
   "source": [
    "Importo le librerie standard di python per analisi dati:\n",
    "    \n",
    "* [Numpy](https://numpy.org/) Per manipolazione matrice e vettori\n",
    "* [pandas](https://pandas.pydata.org/) Per analisi dati\n",
    "* [matplotlib](https://matplotlib.org/) Per plot\n"
   ]
  },
  {
   "cell_type": "code",
   "execution_count": 1,
   "metadata": {},
   "outputs": [],
   "source": [
    "import numpy as np\n",
    "import pandas as pd\n",
    "import matplotlib.pyplot as plt\n",
    "%matplotlib inline"
   ]
  },
  {
   "cell_type": "markdown",
   "metadata": {},
   "source": [
    "Scarico alcuni dataset"
   ]
  },
  {
   "cell_type": "code",
   "execution_count": 2,
   "metadata": {},
   "outputs": [],
   "source": [
    "!mkdir -p data\n",
    "![ -f data/city_temperature.csv ] || curl -L https://raw.githubusercontent.com/giovastabile/elaborazione_statistica/main/notebooks/data/city_temperature.csv -o data/city_temperature.csv\n",
    "![ -f data/weight-height.csv  ] || curl -L https://raw.githubusercontent.com/giovastabile/elaborazione_statistica/main/notebooks/data/weight-height.csv -o data/weight-height.csv"
   ]
  },
  {
   "cell_type": "markdown",
   "metadata": {},
   "source": [
    "Implementazione della funzione che calcola la media:\n",
    "$$\n",
    "\\overline{x} = \\frac{1}{n} \\sum_{i=1}^n x_i \n",
    "$$"
   ]
  },
  {
   "cell_type": "code",
   "execution_count": 3,
   "metadata": {},
   "outputs": [],
   "source": [
    "def mean(dataset):\n",
    "    n = len(dataset)\n",
    "    avg = 0\n",
    "    for i in dataset:\n",
    "        avg = avg+i\n",
    "    return avg/n"
   ]
  },
  {
   "cell_type": "markdown",
   "metadata": {},
   "source": [
    "Implementazione della funzione che converte gradi Fahrenheit in Celsius:\n",
    "$$\n",
    "C = (F - 32)*\\frac{5}{9}\n",
    "$$"
   ]
  },
  {
   "cell_type": "code",
   "execution_count": 5,
   "metadata": {},
   "outputs": [],
   "source": [
    "def toCelsius(data):\n",
    "    return (data - 32)*5/9"
   ]
  },
  {
   "cell_type": "markdown",
   "metadata": {},
   "source": [
    "Carico i dati in un dataset di pandas, mi limito alla temperatura di Roma e stampo il dataset"
   ]
  },
  {
   "cell_type": "code",
   "execution_count": 16,
   "metadata": {},
   "outputs": [
    {
     "name": "stdout",
     "output_type": "stream",
     "text": [
      "       Region Country  State  City  Month  Day  Year  AvgTemperature\n",
      "9266   Europe   Italy    NaN  Rome      1    1  1995            58.3\n",
      "9267   Europe   Italy    NaN  Rome      1    2  1995            46.5\n",
      "9268   Europe   Italy    NaN  Rome      1    3  1995            41.6\n",
      "9269   Europe   Italy    NaN  Rome      1    4  1995            39.9\n",
      "9270   Europe   Italy    NaN  Rome      1    5  1995            37.0\n",
      "...       ...     ...    ...   ...    ...  ...   ...             ...\n",
      "18527  Europe   Italy    NaN  Rome      5    9  2020            61.8\n",
      "18528  Europe   Italy    NaN  Rome      5   10  2020            65.7\n",
      "18529  Europe   Italy    NaN  Rome      5   11  2020            65.6\n",
      "18530  Europe   Italy    NaN  Rome      5   12  2020            66.6\n",
      "18531  Europe   Italy    NaN  Rome      5   13  2020            60.2\n",
      "\n",
      "[9266 rows x 8 columns]\n"
     ]
    }
   ],
   "source": [
    "df_temp = pd.read_csv('data/city_temperature.csv')\n",
    "df_rome = df_temp.loc[df_temp['City'] == 'Rome']\n",
    "print(df_rome)"
   ]
  },
  {
   "cell_type": "markdown",
   "metadata": {},
   "source": [
    "Creo un vettore che contiene solamente la temperatura e creo il vettore convertito in Celsius"
   ]
  },
  {
   "cell_type": "code",
   "execution_count": 20,
   "metadata": {},
   "outputs": [],
   "source": [
    "Temp = df_rome.values[:,7]\n",
    "Temp_C = toCelsius(Temp)"
   ]
  },
  {
   "cell_type": "markdown",
   "metadata": {},
   "source": [
    "Calcolo e stampo la temperatura usando la funzione media di numpy in Farhenheit"
   ]
  },
  {
   "cell_type": "code",
   "execution_count": 21,
   "metadata": {},
   "outputs": [
    {
     "name": "stdout",
     "output_type": "stream",
     "text": [
      "60.22482192963531\n"
     ]
    }
   ],
   "source": [
    "print(np.mean(Temp))"
   ]
  },
  {
   "cell_type": "markdown",
   "metadata": {},
   "source": [
    "Calcolo e stampo la temperatura usando la funzione media di numpy in Celsius"
   ]
  },
  {
   "cell_type": "code",
   "execution_count": 22,
   "metadata": {},
   "outputs": [
    {
     "name": "stdout",
     "output_type": "stream",
     "text": [
      "15.680456627575104\n"
     ]
    }
   ],
   "source": [
    "print(np.mean(Temp_C))"
   ]
  },
  {
   "cell_type": "code",
   "execution_count": 23,
   "metadata": {},
   "outputs": [
    {
     "name": "stdout",
     "output_type": "stream",
     "text": [
      "15.680456627575174\n"
     ]
    }
   ],
   "source": [
    "print(toCelsius(np.mean(Temp)))"
   ]
  },
  {
   "cell_type": "code",
   "execution_count": 24,
   "metadata": {},
   "outputs": [],
   "source": [
    "df = pd.read_csv('data/weight-height.csv')\n",
    "males = df.loc[df['Gender'] == 'Female']"
   ]
  },
  {
   "cell_type": "code",
   "execution_count": 25,
   "metadata": {},
   "outputs": [
    {
     "name": "stdout",
     "output_type": "stream",
     "text": [
      "      Gender     Height      Weight\n",
      "5000  Female  58.910732  102.088326\n",
      "5001  Female  65.230013  141.305823\n",
      "5002  Female  63.369004  131.041403\n",
      "5003  Female  64.479997  128.171511\n",
      "5004  Female  61.793096  129.781407\n",
      "...      ...        ...         ...\n",
      "9995  Female  66.172652  136.777454\n",
      "9996  Female  67.067155  170.867906\n",
      "9997  Female  63.867992  128.475319\n",
      "9998  Female  69.034243  163.852461\n",
      "9999  Female  61.944246  113.649103\n",
      "\n",
      "[5000 rows x 3 columns]\n"
     ]
    }
   ],
   "source": [
    "print(males)"
   ]
  },
  {
   "cell_type": "code",
   "execution_count": 26,
   "metadata": {},
   "outputs": [],
   "source": [
    "height = males.values[:,2]"
   ]
  },
  {
   "cell_type": "code",
   "execution_count": 27,
   "metadata": {},
   "outputs": [
    {
     "data": {
      "text/plain": [
       "135.8600930074687"
      ]
     },
     "execution_count": 27,
     "metadata": {},
     "output_type": "execute_result"
    }
   ],
   "source": [
    "mean(height)"
   ]
  },
  {
   "cell_type": "code",
   "execution_count": 28,
   "metadata": {},
   "outputs": [
    {
     "data": {
      "text/plain": [
       "135.8600930074687"
      ]
     },
     "execution_count": 28,
     "metadata": {},
     "output_type": "execute_result"
    }
   ],
   "source": [
    "np.mean(height)"
   ]
  },
  {
   "cell_type": "markdown",
   "metadata": {},
   "source": [
    "Usando la tabella sotto calcola l'età media di un maschio italiano, di una femmina e di un cittadino italiano\n",
    "\n",
    "|Età|Maschi|Femmine|Totale| \n",
    "|:---:|:---:|:---:| :---:|\n",
    "00-09 |2 785 099|2 634 666| 5 419 765| \n",
    "10-19 |2 941 791|2 783 415| 5 725 206| \n",
    "20-29 |3 637 073|3 508 575| 7 145 648| \n",
    "30-39 |4 781 311|4 681 824| 9 463 135| \n",
    "40-49 |4 279 292|4 301 949| 8 581 241| \n",
    "50-59 |3 662 489|3 805 269| 7 467 758| \n",
    "60-69 |3 090 806|3 435 301| 6 526 107| \n",
    "70-79 |2 240 346|2 994 965| 5 235 311| \n",
    "80-89 |832 683 |1 574 000| 2 406 683 |\n",
    "90-999 |125 914 |365 607 |491 521|"
   ]
  },
  {
   "cell_type": "code",
   "execution_count": null,
   "metadata": {},
   "outputs": [],
   "source": [
    "#Qua il codice\n",
    "import numpy as np\n",
    "eta = np.arange(5,100,10)\n",
    "maschi = np.array([\n",
    "2785099,\n",
    "2941791,\n",
    "3637073,\n",
    "4781311,\n",
    "4279292,\n",
    "3662489,\n",
    "3090806,\n",
    "2240346,\n",
    "832683,\n",
    "125914])\n",
    "femmine = np.array([\n",
    "2634666,\n",
    "2783415,\n",
    "3508575,\n",
    "4681824,\n",
    "4301949,\n",
    "3805269,\n",
    "3435301,\n",
    "2994965,\n",
    "1574000,\n",
    "365607])\n",
    "italiani=np.array([\n",
    "5419765,\n",
    "5725206,\n",
    "7145648,\n",
    "9463135,\n",
    "8581241,\n",
    "7467758,\n",
    "6526107,\n",
    "5235311,\n",
    "2406683,\n",
    "491521\n",
    "]\n",
    ")\n",
    "\n",
    "media_maschi = (eta*maschi).sum()/maschi.sum()\n",
    "media_femmine = (eta*femmine).sum()/femmine.sum()\n",
    "media_italiani = (eta*italiani).sum()/italiani.sum()\n",
    "\n",
    "print(\"%0.2f\" % media_maschi, \"%0.2f\" % media_femmine, \"%0.2f\" % media_italiani)"
   ]
  }
 ],
 "metadata": {
  "kernelspec": {
   "display_name": "Python 3.6.8 64-bit",
   "language": "python",
   "name": "python3"
  },
  "language_info": {
   "codemirror_mode": {
    "name": "ipython",
    "version": 3
   },
   "file_extension": ".py",
   "mimetype": "text/x-python",
   "name": "python",
   "nbconvert_exporter": "python",
   "pygments_lexer": "ipython3",
   "version": "3.6.8"
  },
  "vscode": {
   "interpreter": {
    "hash": "916dbcbb3f70747c44a77c7bcd40155683ae19c65e1c03b4aa3499c5328201f1"
   }
  }
 },
 "nbformat": 4,
 "nbformat_minor": 2
}
