{
 "cells": [
  {
   "cell_type": "markdown",
   "metadata": {},
   "source": [
    "Apri questo notebook in [colab](https://colab.research.google.com/github/giovastabile/elaborazione_statistica/blob/main/notebooks/10_tests.ipynb).\n",
    "\n",
    "**T-Test**\n",
    "Systolic blood pressures of 14 patients are given below:"
   ]
  },
  {
   "cell_type": "code",
   "execution_count": 5,
   "metadata": {},
   "outputs": [],
   "source": [
    "import numpy as np\n",
    "sys_bp=np.array([183, 152, 178, 157, 194, 163, 144, 114, 178, 152, 118, 158, 172, 138])"
   ]
  },
  {
   "cell_type": "markdown",
   "metadata": {},
   "source": [
    "We want to test, whether the population mean, is less than 165\n",
    "\n",
    "**Hypothesis**\n",
    "\n",
    "$H_0$: There is no significant mean difference in systolic blood pressure. i.e., μ = 165\n",
    "\n",
    "$H_1$: The population mean is less than 165. i.e., μ < 165\n",
    "\n",
    "**Test statistic**  \n",
    "\n",
    "where:\n",
    "\n",
    "$\\overline{x}$ is sample mean\n",
    "\n",
    "$\\mu$ is the population mean\n",
    "\n",
    "$s$ is sample standard deviation\n",
    "\n",
    "$n$ is the number of observations;"
   ]
  },
  {
   "cell_type": "code",
   "execution_count": 16,
   "metadata": {},
   "outputs": [],
   "source": [
    "mu = 165\n",
    "t_value,p_value=stats.ttest_1samp(sys_bp,mu)"
   ]
  },
  {
   "cell_type": "code",
   "execution_count": 17,
   "metadata": {},
   "outputs": [
    {
     "name": "stdout",
     "output_type": "stream",
     "text": [
      "Test statistic is -1.243183\n",
      "p-value for one tailed test is 0.117877\n",
      "Conclusion n Sincep-value(=0.117877) > alpha(=0.05) We do not reject the null hypothesis H0.\n"
     ]
    }
   ],
   "source": [
    "one_tailed_p_value=float(\"{:.6f}\".format(p_value/2)) # Since alternative hypothesis is one tailed, We need to divide the p value by 2.\n",
    "\n",
    "print('Test statistic is %f'%float(\"{:.6f}\".format(t_value)))\n",
    "\n",
    "print('p-value for one tailed test is %f'%one_tailed_p_value)\n",
    "\n",
    "alpha = 0.05\n",
    "\n",
    "if one_tailed_p_value<=alpha:\n",
    "  print('Conclusion','n','Since p value(=%f)'%p_value,'<','alpha(=%.2f)'%alpha,'''We reject the null hypothesis H0. So we conclude that there is no significant mean difference in systolic blood pressure. i.e., μ = 165 at %.2f level of significance'''%alpha)\n",
    "\n",
    "else:\n",
    "  print('Conclusion','n','Sincep-value(=%f)'%one_tailed_p_value, '>', 'alpha(=%.2f)'%alpha,'We do not reject the null hypothesis H0.')"
   ]
  }
 ],
 "metadata": {
  "kernelspec": {
   "display_name": "Python 3 (ipykernel)",
   "language": "python",
   "name": "python3"
  },
  "language_info": {
   "codemirror_mode": {
    "name": "ipython",
    "version": 3
   },
   "file_extension": ".py",
   "mimetype": "text/x-python",
   "name": "python",
   "nbconvert_exporter": "python",
   "pygments_lexer": "ipython3",
   "version": "3.10.10"
  },
  "vscode": {
   "interpreter": {
    "hash": "4fc84484465084601b811cee3f2dbd41b30cc529506285d1faee74a272af2aa7"
   }
  }
 },
 "nbformat": 4,
 "nbformat_minor": 2
}
