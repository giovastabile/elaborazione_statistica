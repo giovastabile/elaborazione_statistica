{
 "cells": [
  {
   "cell_type": "markdown",
   "metadata": {},
   "source": [
    "Importa le librerie pandas, numpy e matplotlib e scrivi nella cella sottostante i nomi dei componenti del gruppo."
   ]
  },
  {
   "cell_type": "code",
   "execution_count": 3,
   "metadata": {},
   "outputs": [],
   "source": [
    "# Codice qui\n",
    "import pandas as pd\n",
    "import numpy as np\n",
    "import matplotlib.pyplot as plt"
   ]
  },
  {
   "cell_type": "markdown",
   "metadata": {},
   "source": [
    "Considera il dataset csv disponibile al presente indirizzo:\n",
    "\n",
    "https://raw.githubusercontent.com/giovastabile/elaborazione_statistica/main/FinalProject/heart.csv\n",
    "\n",
    "Dove le varie colonne hanno il seguente significato\n",
    "\n",
    "1 age \\\n",
    "2 sex \\\n",
    "3 chest pain type (4 values) \\\n",
    "4 resting blood pressure \\\n",
    "5 serum cholestoral in mg/dl \\\n",
    "6 fasting blood sugar > 120 mg/dl \\\n",
    "7 resting electrocardiographic results (values 0,1,2) \\\n",
    "8 maximum heart rate achieved \\\n",
    "9 exercise induced angina \\\n",
    "10 oldpeak = ST depression induced by exercise relative to rest \\\n",
    "11 the slope of the peak exercise ST segment \\\n",
    "12 number of major vessels (0-3) colored by flourosopy \\\n",
    "13 thal: 0 = normal; 1 = fixed defect; 2 = reversable defect \\\n",
    "14 The names and social security numbers of the patients were recently removed from the database, replaced with dummy values."
   ]
  },
  {
   "cell_type": "markdown",
   "metadata": {},
   "source": [
    "Leggi il dataset creando un dataframe pandas chiamato `df`"
   ]
  },
  {
   "cell_type": "code",
   "execution_count": 7,
   "metadata": {},
   "outputs": [],
   "source": [
    "### Codice QUA\n",
    "df = pd.read_csv(\"https://raw.githubusercontent.com/giovastabile/elaborazione_statistica/main/FinalProject/heart.csv\")"
   ]
  },
  {
   "cell_type": "markdown",
   "metadata": {},
   "source": [
    "Utilizza le funzionalità di pandas per calcolare delle quantità statistiche di base del dataframe"
   ]
  },
  {
   "cell_type": "code",
   "execution_count": 8,
   "metadata": {},
   "outputs": [
    {
     "data": {
      "text/plain": [
       "age         1022\n",
       "sex         1025\n",
       "cp          1025\n",
       "trestbps    1025\n",
       "chol        1024\n",
       "fbs         1025\n",
       "restecg     1025\n",
       "thalach     1024\n",
       "exang       1025\n",
       "oldpeak     1025\n",
       "slope       1025\n",
       "ca          1025\n",
       "thal        1025\n",
       "target      1025\n",
       "dtype: int64"
      ]
     },
     "execution_count": 8,
     "metadata": {},
     "output_type": "execute_result"
    }
   ],
   "source": [
    "### Codice qui\n",
    "df.describe()\n",
    "df.count()"
   ]
  },
  {
   "cell_type": "markdown",
   "metadata": {},
   "source": [
    "Pulisci il dataset e rimuovi i pazienti con età errate"
   ]
  },
  {
   "cell_type": "code",
   "execution_count": 15,
   "metadata": {},
   "outputs": [
    {
     "data": {
      "text/html": [
       "<div>\n",
       "<style scoped>\n",
       "    .dataframe tbody tr th:only-of-type {\n",
       "        vertical-align: middle;\n",
       "    }\n",
       "\n",
       "    .dataframe tbody tr th {\n",
       "        vertical-align: top;\n",
       "    }\n",
       "\n",
       "    .dataframe thead th {\n",
       "        text-align: right;\n",
       "    }\n",
       "</style>\n",
       "<table border=\"1\" class=\"dataframe\">\n",
       "  <thead>\n",
       "    <tr style=\"text-align: right;\">\n",
       "      <th></th>\n",
       "      <th>age</th>\n",
       "      <th>sex</th>\n",
       "      <th>cp</th>\n",
       "      <th>trestbps</th>\n",
       "      <th>chol</th>\n",
       "      <th>fbs</th>\n",
       "      <th>restecg</th>\n",
       "      <th>thalach</th>\n",
       "      <th>exang</th>\n",
       "      <th>oldpeak</th>\n",
       "      <th>slope</th>\n",
       "      <th>ca</th>\n",
       "      <th>thal</th>\n",
       "      <th>target</th>\n",
       "    </tr>\n",
       "  </thead>\n",
       "  <tbody>\n",
       "    <tr>\n",
       "      <th>0</th>\n",
       "      <td>52.0</td>\n",
       "      <td>1</td>\n",
       "      <td>0</td>\n",
       "      <td>125</td>\n",
       "      <td>212.0</td>\n",
       "      <td>0</td>\n",
       "      <td>1</td>\n",
       "      <td>168.0</td>\n",
       "      <td>0</td>\n",
       "      <td>1.0</td>\n",
       "      <td>2</td>\n",
       "      <td>2</td>\n",
       "      <td>3</td>\n",
       "      <td>0</td>\n",
       "    </tr>\n",
       "    <tr>\n",
       "      <th>1</th>\n",
       "      <td>53.0</td>\n",
       "      <td>1</td>\n",
       "      <td>0</td>\n",
       "      <td>140</td>\n",
       "      <td>203.0</td>\n",
       "      <td>1</td>\n",
       "      <td>0</td>\n",
       "      <td>155.0</td>\n",
       "      <td>1</td>\n",
       "      <td>3.1</td>\n",
       "      <td>0</td>\n",
       "      <td>0</td>\n",
       "      <td>3</td>\n",
       "      <td>0</td>\n",
       "    </tr>\n",
       "    <tr>\n",
       "      <th>2</th>\n",
       "      <td>70.0</td>\n",
       "      <td>1</td>\n",
       "      <td>0</td>\n",
       "      <td>145</td>\n",
       "      <td>174.0</td>\n",
       "      <td>0</td>\n",
       "      <td>1</td>\n",
       "      <td>125.0</td>\n",
       "      <td>1</td>\n",
       "      <td>2.6</td>\n",
       "      <td>0</td>\n",
       "      <td>0</td>\n",
       "      <td>3</td>\n",
       "      <td>0</td>\n",
       "    </tr>\n",
       "    <tr>\n",
       "      <th>3</th>\n",
       "      <td>61.0</td>\n",
       "      <td>1</td>\n",
       "      <td>0</td>\n",
       "      <td>148</td>\n",
       "      <td>203.0</td>\n",
       "      <td>0</td>\n",
       "      <td>1</td>\n",
       "      <td>161.0</td>\n",
       "      <td>0</td>\n",
       "      <td>0.0</td>\n",
       "      <td>2</td>\n",
       "      <td>1</td>\n",
       "      <td>3</td>\n",
       "      <td>0</td>\n",
       "    </tr>\n",
       "    <tr>\n",
       "      <th>4</th>\n",
       "      <td>62.0</td>\n",
       "      <td>0</td>\n",
       "      <td>0</td>\n",
       "      <td>138</td>\n",
       "      <td>294.0</td>\n",
       "      <td>1</td>\n",
       "      <td>1</td>\n",
       "      <td>106.0</td>\n",
       "      <td>0</td>\n",
       "      <td>1.9</td>\n",
       "      <td>1</td>\n",
       "      <td>3</td>\n",
       "      <td>2</td>\n",
       "      <td>0</td>\n",
       "    </tr>\n",
       "  </tbody>\n",
       "</table>\n",
       "</div>"
      ],
      "text/plain": [
       "    age  sex  cp  trestbps   chol  fbs  restecg  thalach  exang  oldpeak  \\\n",
       "0  52.0    1   0       125  212.0    0        1    168.0      0      1.0   \n",
       "1  53.0    1   0       140  203.0    1        0    155.0      1      3.1   \n",
       "2  70.0    1   0       145  174.0    0        1    125.0      1      2.6   \n",
       "3  61.0    1   0       148  203.0    0        1    161.0      0      0.0   \n",
       "4  62.0    0   0       138  294.0    1        1    106.0      0      1.9   \n",
       "\n",
       "   slope  ca  thal  target  \n",
       "0      2   2     3       0  \n",
       "1      0   0     3       0  \n",
       "2      0   0     3       0  \n",
       "3      2   1     3       0  \n",
       "4      1   3     2       0  "
      ]
     },
     "execution_count": 15,
     "metadata": {},
     "output_type": "execute_result"
    }
   ],
   "source": [
    "df_ok = df[(df.age>0) & (df.age<100)]\n",
    "df_ok.describe()\n",
    "df_ok.head()"
   ]
  },
  {
   "cell_type": "markdown",
   "metadata": {},
   "source": [
    "Controlla se ci sono valori non numerici nella colonna thalach"
   ]
  },
  {
   "cell_type": "code",
   "execution_count": 10,
   "metadata": {},
   "outputs": [],
   "source": [
    "df.thalach = pd.to_numeric(df.thalach,\n",
    "                              errors = 'coerce')"
   ]
  },
  {
   "cell_type": "markdown",
   "metadata": {},
   "source": [
    "Controlla se ci sono elementi vuoti nella colonna thalach"
   ]
  },
  {
   "cell_type": "code",
   "execution_count": 11,
   "metadata": {},
   "outputs": [
    {
     "data": {
      "text/plain": [
       "4"
      ]
     },
     "execution_count": 11,
     "metadata": {},
     "output_type": "execute_result"
    }
   ],
   "source": [
    "df.thalach.isna().sum()"
   ]
  },
  {
   "cell_type": "markdown",
   "metadata": {},
   "source": [
    "Se ci sono rimpiazzali con la media della colonna"
   ]
  },
  {
   "cell_type": "code",
   "execution_count": null,
   "metadata": {},
   "outputs": [],
   "source": []
  },
  {
   "cell_type": "markdown",
   "metadata": {},
   "source": [
    "Esegui la stessa operazione anche con le altre colonne"
   ]
  },
  {
   "cell_type": "code",
   "execution_count": 22,
   "metadata": {},
   "outputs": [
    {
     "data": {
      "image/png": "[encoded data removed]",
      "text/plain": [
       "<Figure size 640x480 with 1 Axes>"
      ]
     },
     "metadata": {},
     "output_type": "display_data"
    }
   ],
   "source": [
    "plt.plot(df.chol,df.trestbps,'*')\n",
    "plt.grid()"
   ]
  },
  {
   "cell_type": "markdown",
   "metadata": {},
   "source": [
    "Fai un plot di tipo scatter dove metti in relazione la pressione sanguigna con il colesterolo. Rendi il plot il più leggibile possibile con titolo degli assi, legenda, griglia."
   ]
  },
  {
   "cell_type": "markdown",
   "metadata": {},
   "source": [
    "Controlla se c'è correlazione tra le varie colonne del dataframe ed indica le due colonne con la collorazione più alta"
   ]
  },
  {
   "cell_type": "code",
   "execution_count": null,
   "metadata": {},
   "outputs": [],
   "source": []
  }
 ],
 "metadata": {
  "kernelspec": {
   "display_name": "Python 3 (ipykernel)",
   "language": "python",
   "name": "python3"
  },
  "language_info": {
   "codemirror_mode": {
    "name": "ipython",
    "version": 3
   },
   "file_extension": ".py",
   "mimetype": "text/x-python",
   "name": "python",
   "nbconvert_exporter": "python",
   "pygments_lexer": "ipython3",
   "version": "3.10.10"
  },
  "vscode": {
   "interpreter": {
    "hash": "e7370f93d1d0cde622a1f8e1c04877d8463912d04d973331ad4851f04de6915a"
   }
  }
 },
 "nbformat": 4,
 "nbformat_minor": 2
}
