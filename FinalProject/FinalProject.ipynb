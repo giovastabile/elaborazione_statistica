{
 "cells": [
  {
   "attachments": {},
   "cell_type": "markdown",
   "metadata": {},
   "source": [
    "Importa le librerie pandas, numpy e matplotlib e scrivi nella cella sottostante i nomi dei componenti del gruppo con la relativa matricola."
   ]
  },
  {
   "cell_type": "code",
   "execution_count": 12,
   "metadata": {},
   "outputs": [],
   "source": [
    "# Codice qui"
   ]
  },
  {
   "attachments": {},
   "cell_type": "markdown",
   "metadata": {},
   "source": [
    "Considera il dataset csv disponibile al presente indirizzo:\n",
    "\n",
    "https://raw.githubusercontent.com/giovastabile/elaborazione_statistica/main/FinalProject/heart.csv\n",
    "\n",
    "Dove le varie colonne hanno il seguente significato\n",
    "\n",
    "1 `age`: age \\\n",
    "2 `sex: `sex \\\n",
    "3 `cp`: chest pain type (4 values) \\\n",
    "4 `trestbps`: resting blood pressure \\\n",
    "5 `chol`: serum cholestoral in mg/dl \\\n",
    "6 `fbs`: fasting blood sugar > 120 mg/dl \\\n",
    "7 `restecg`: resting electrocardiographic results (values 0,1,2) \\\n",
    "8 `thalach`: maximum heart rate achieved \\\n",
    "9 `exang`: exercise induced angina \\\n",
    "10 `oldpeak`: ST depression induced by exercise relative to rest \\\n",
    "11 `slope`: the slope of the peak exercise ST segment \\\n",
    "12 `ca`: number of major vessels (0-3) colored by flourosopy \\\n",
    "13 `thal`: 0 = normal; 1 = fixed defect; 2 = reversable defect \\\n",
    "14 `target`: The names and social security numbers of the patients were recently removed from the database, replaced with dummy values."
   ]
  },
  {
   "cell_type": "markdown",
   "metadata": {},
   "source": [
    "Leggi il dataset creando un dataframe pandas chiamato `df`"
   ]
  },
  {
   "cell_type": "code",
   "execution_count": 13,
   "metadata": {},
   "outputs": [],
   "source": [
    "### Codice QUA"
   ]
  },
  {
   "cell_type": "markdown",
   "metadata": {},
   "source": [
    "Utilizza le funzionalità di pandas per calcolare delle quantità statistiche di base del dataframe"
   ]
  },
  {
   "cell_type": "code",
   "execution_count": 14,
   "metadata": {},
   "outputs": [],
   "source": [
    "### Codice qui"
   ]
  },
  {
   "cell_type": "markdown",
   "metadata": {},
   "source": [
    "Pulisci il dataset e rimuovi i pazienti con età errate"
   ]
  },
  {
   "cell_type": "code",
   "execution_count": 15,
   "metadata": {},
   "outputs": [],
   "source": [
    "### Codice qui"
   ]
  },
  {
   "cell_type": "markdown",
   "metadata": {},
   "source": [
    "Controlla se ci sono valori non numerici nella colonna thalach"
   ]
  },
  {
   "cell_type": "code",
   "execution_count": 16,
   "metadata": {},
   "outputs": [],
   "source": [
    "### Codice qui"
   ]
  },
  {
   "cell_type": "markdown",
   "metadata": {},
   "source": [
    "Controlla se ci sono elementi vuoti nella colonna thalach"
   ]
  },
  {
   "cell_type": "code",
   "execution_count": 17,
   "metadata": {},
   "outputs": [],
   "source": [
    "### Codice qui"
   ]
  },
  {
   "cell_type": "markdown",
   "metadata": {},
   "source": [
    "Se ci sono rimpiazzali con la media della colonna"
   ]
  },
  {
   "cell_type": "code",
   "execution_count": 18,
   "metadata": {},
   "outputs": [],
   "source": [
    "### Codice qui"
   ]
  },
  {
   "cell_type": "markdown",
   "metadata": {},
   "source": [
    "Esegui la stessa operazione anche con le altre colonne"
   ]
  },
  {
   "cell_type": "code",
   "execution_count": 19,
   "metadata": {},
   "outputs": [],
   "source": [
    "### Codice qui"
   ]
  },
  {
   "attachments": {},
   "cell_type": "markdown",
   "metadata": {},
   "source": [
    "Fai un plot di tipo scatter dove metti in relazione la pressione sanguigna con il colesterolo. Rendi il plot il più leggibile possibile con titolo degli assi, legenda, griglia e salva la figura in formato pdf"
   ]
  },
  {
   "cell_type": "code",
   "execution_count": 20,
   "metadata": {},
   "outputs": [],
   "source": [
    "### Codice qui"
   ]
  },
  {
   "cell_type": "markdown",
   "metadata": {},
   "source": [
    "Controlla se c'è correlazione tra le varie colonne del dataframe ed indica le due colonne con la collorazione più alta"
   ]
  },
  {
   "cell_type": "code",
   "execution_count": 21,
   "metadata": {},
   "outputs": [],
   "source": [
    "### Codice qui"
   ]
  },
  {
   "attachments": {},
   "cell_type": "markdown",
   "metadata": {},
   "source": [
    "Inserisci la colonna colesterolo in una array numpy chiamata `chol`"
   ]
  },
  {
   "cell_type": "code",
   "execution_count": 22,
   "metadata": {},
   "outputs": [],
   "source": [
    "### Codice qui"
   ]
  },
  {
   "attachments": {},
   "cell_type": "markdown",
   "metadata": {},
   "source": [
    "Utilizza le funzioni di numpy per calcolare media e varianza della variabile `chol`"
   ]
  },
  {
   "cell_type": "code",
   "execution_count": 23,
   "metadata": {},
   "outputs": [],
   "source": [
    "### Codice qui"
   ]
  },
  {
   "attachments": {},
   "cell_type": "markdown",
   "metadata": {},
   "source": [
    "Dalla variabile così creata estrai gli elementi dal primo al decimo e mettili in una variabile chiamata `chol10`"
   ]
  },
  {
   "cell_type": "code",
   "execution_count": 24,
   "metadata": {},
   "outputs": [],
   "source": [
    "### Codice qui"
   ]
  },
  {
   "attachments": {},
   "cell_type": "markdown",
   "metadata": {},
   "source": [
    "Crea una funzione che prende in input un array generica di numpy e restituisce la media"
   ]
  },
  {
   "cell_type": "code",
   "execution_count": 25,
   "metadata": {},
   "outputs": [],
   "source": [
    "def funzione_media(array_gen):\n",
    "    ### Codice qui\n",
    "    return media"
   ]
  },
  {
   "attachments": {},
   "cell_type": "markdown",
   "metadata": {},
   "source": [
    "Fai la stessa cosa con la varianza"
   ]
  },
  {
   "cell_type": "code",
   "execution_count": 26,
   "metadata": {},
   "outputs": [],
   "source": [
    "def funzione_varianza(array_gen):\n",
    "    ### Codice qui\n",
    "    return varianza"
   ]
  },
  {
   "attachments": {},
   "cell_type": "markdown",
   "metadata": {},
   "source": [
    "Utilizza le funzioni sopra scritte per calcolare e printare la media e la varianza dell'array `chol10`"
   ]
  },
  {
   "cell_type": "code",
   "execution_count": 27,
   "metadata": {},
   "outputs": [],
   "source": [
    "### Codice qui"
   ]
  }
 ],
 "metadata": {
  "kernelspec": {
   "display_name": "Python 3 (ipykernel)",
   "language": "python",
   "name": "python3"
  },
  "language_info": {
   "codemirror_mode": {
    "name": "ipython",
    "version": 3
   },
   "file_extension": ".py",
   "mimetype": "text/x-python",
   "name": "python",
   "nbconvert_exporter": "python",
   "pygments_lexer": "ipython3",
   "version": "3.10.10"
  },
  "vscode": {
   "interpreter": {
    "hash": "e7370f93d1d0cde622a1f8e1c04877d8463912d04d973331ad4851f04de6915a"
   }
  }
 },
 "nbformat": 4,
 "nbformat_minor": 2
}
