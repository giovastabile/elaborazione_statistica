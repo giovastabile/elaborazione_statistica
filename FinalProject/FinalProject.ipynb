{
 "cells": [
  {
   "attachments": {},
   "cell_type": "markdown",
   "metadata": {},
   "source": [
    "Importa le librerie pandas, numpy e matplotlib"
   ]
  },
  {
   "cell_type": "code",
   "execution_count": 13,
   "metadata": {},
   "outputs": [],
   "source": [
    "# Codice qui\n",
    "import pandas as pd\n",
    "import numpy as np\n",
    "import matplotlib.pyplot as plt"
   ]
  },
  {
   "cell_type": "markdown",
   "metadata": {},
   "source": []
  },
  {
   "attachments": {},
   "cell_type": "markdown",
   "metadata": {},
   "source": [
    "Considera il dataset csv disponibile al presente indirizzo:\n",
    "\n",
    "https://raw.githubusercontent.com/giovastabile/elaborazione_statistica/main/FinalProject/heart.csv\n",
    "\n",
    "Dove le varie colonne hanno il seguente significato\n",
    "\n",
    "1 age \\\n",
    "2 sex \\\n",
    "3 chest pain type (4 values) \\\n",
    "4 resting blood pressure \\\n",
    "5 serum cholestoral in mg/dl \\\n",
    "6 fasting blood sugar > 120 mg/dl \\\n",
    "7 resting electrocardiographic results (values 0,1,2) \\\n",
    "8 maximum heart rate achieved \\\n",
    "9 exercise induced angina \\\n",
    "10 oldpeak = ST depression induced by exercise relative to rest \\\n",
    "11 the slope of the peak exercise ST segment \\\n",
    "12 number of major vessels (0-3) colored by flourosopy \\\n",
    "13 thal: 0 = normal; 1 = fixed defect; 2 = reversable defect \\\n",
    "14 The names and social security numbers of the patients were recently removed from the database, replaced with dummy values."
   ]
  },
  {
   "attachments": {},
   "cell_type": "markdown",
   "metadata": {},
   "source": [
    "Leggi il dataset creando un dataframe pandas chiamato `df`"
   ]
  },
  {
   "cell_type": "code",
   "execution_count": 12,
   "metadata": {},
   "outputs": [],
   "source": [
    "### Codice QUA\n",
    "df = pd.read_csv(\"https://raw.githubusercontent.com/giovastabile/elaborazione_statistica/main/FinalProject/heart.csv\")"
   ]
  },
  {
   "cell_type": "markdown",
   "metadata": {},
   "source": []
  },
  {
   "attachments": {},
   "cell_type": "markdown",
   "metadata": {},
   "source": [
    "Utilizza le funzionalità di pandas per calcolare delle quantità statistiche di base del dataframe"
   ]
  },
  {
   "cell_type": "code",
   "execution_count": null,
   "metadata": {},
   "outputs": [],
   "source": [
    "df.count()\n",
    "df.head()"
   ]
  },
  {
   "cell_type": "code",
   "execution_count": null,
   "metadata": {},
   "outputs": [],
   "source": []
  }
 ],
 "metadata": {
  "kernelspec": {
   "display_name": "Python 3",
   "language": "python",
   "name": "python3"
  },
  "language_info": {
   "codemirror_mode": {
    "name": "ipython",
    "version": 3
   },
   "file_extension": ".py",
   "mimetype": "text/x-python",
   "name": "python",
   "nbconvert_exporter": "python",
   "pygments_lexer": "ipython3",
   "version": "3.10.10"
  },
  "orig_nbformat": 4,
  "vscode": {
   "interpreter": {
    "hash": "e7370f93d1d0cde622a1f8e1c04877d8463912d04d973331ad4851f04de6915a"
   }
  }
 },
 "nbformat": 4,
 "nbformat_minor": 2
}
